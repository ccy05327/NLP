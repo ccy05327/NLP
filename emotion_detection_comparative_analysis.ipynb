{
  "cells": [
    {
      "cell_type": "markdown",
      "metadata": {
        "id": "ie6tQ2kxFTsP",
        "vscode": {
          "languageId": "raw"
        }
      },
      "source": [
        "# Emotion Detection: Comparative Analysis of Statistical vs. Transformer-Based Models\n",
        "\n",
        "## Overview\n",
        "\n",
        "This notebook provides a comprehensive comparative analysis of different approaches to emotion detection in text. We implement and evaluate three distinct model types:\n",
        "\n",
        "1.  **Statistical Models**: Naive Bayes (baseline) and Logistic Regression with TF-IDF features\n",
        "2.  **Transformer-Based Model**: Fine-tuned DistilBERT-base-uncased\n",
        "3.  **Comparative Analysis**: Performance evaluation and insights\n",
        "\n",
        "## Dataset\n",
        "\n",
        "-   **Source**: `dair-ai/emotion` from Hugging Face Datasets\n",
        "-   **Size**: ~20,000 short texts (primarily tweets)\n",
        "-   **Classes**: 6 emotions (sadness, joy, love, anger, fear, surprise)\n",
        "-   **Splits**: Train (16,000), Validation (2,000), Test (2,000)\n",
        "\n",
        "## Model Descriptions\n",
        "\n",
        "### Statistical Models\n",
        "\n",
        "-   **TF-IDF Features**: Term Frequency-Inverse Document Frequency vectorization\n",
        "-   **Naive Bayes**: Probabilistic classifier assuming feature independence\n",
        "-   **Logistic Regression**: Linear classifier with regularization\n",
        "\n",
        "### Transformer Model\n",
        "\n",
        "-   **DistilBERT**: Distilled version of BERT, 40% smaller, 60% faster\n",
        "-   **Fine-tuning**: Adapter layers added for emotion classification\n",
        "-   **Context**: Bidirectional attention mechanisms capture semantic relationships"
      ]
    },
    {
      "cell_type": "markdown",
      "metadata": {
        "id": "ZxzLhNbnFTsR",
        "vscode": {
          "languageId": "raw"
        }
      },
      "source": [
        "## Setup and Library Imports\n"
      ]
    },
    {
      "cell_type": "markdown",
      "metadata": {},
      "source": [
        "## Introduction\n",
        "\n",
        "Emotion detection in text is a growing field within Natural Language Processing (NLP), focused on identifying the underlying emotional tone of written language. As digital communication continues to dominate online platforms, the ability to recognise emotions in short texts such as tweets or chat messages has significant practical relevance. Applications range from enhancing customer service and monitoring digital well-being to developing more empathetic chatbots and effective content moderation tools.\n",
        "\n",
        "The methodology for accomplishing this task has evolved significantly, shifting from classical machine learning techniques to more advanced deep learning architectures. Recent literature demonstrates a clear performance advantage for modern transformer-based models, which leverage contextual understanding of language. For instance, a comparative study on Twitter data found that a BERT model achieved a higher classification accuracy (75.6%) than a traditional Support Vector Machine (71.6%) on the same task (Wicaksono & Cahyaningrum, 2024). Within the transformer paradigm itself, a performance hierarchy is also evident; research on formal datasets shows that larger, optimised models like RoBERTa can outperform more lightweight variants such as DistilBERT (Dell’Orletta et al., 2021). However, this increase in accuracy often comes with a significant trade-off in computational cost and efficiency.\n",
        "\n",
        "Building on this context, this project conducts a direct comparative analysis to investigate these trade-offs in a practical setting. It implements two distinct models for emotion detection on short-form text: a classical model (Logistic Regression with TF-IDF features) and an efficient, contemporary transformer model (a fine-tuned DistilBERT). By evaluating both approaches on the same dataset, this study aims to provide a practical comparison of their performance, highlighting the relationship between contextual understanding, computational resources, and classification accuracy.\n"
      ]
    },
    {
      "cell_type": "code",
      "execution_count": 22,
      "metadata": {
        "colab": {
          "base_uri": "https://localhost:8080/"
        },
        "id": "tEfxPI1CFTsS",
        "outputId": "794b7a8c-95c4-4340-aa27-fd6d441327c2"
      },
      "outputs": [
        {
          "name": "stdout",
          "output_type": "stream",
          "text": [
            "✅ All libraries imported successfully!\n",
            "📦 PyTorch version: 2.6.0+cu124\n",
            "🤗 Transformers available: True\n",
            "🔢 CUDA available: True\n",
            "🖥️ Using device: cuda\n"
          ]
        }
      ],
      "source": [
        "# Core data manipulation and visualization\n",
        "import pandas as pd\n",
        "import numpy as np\n",
        "import matplotlib.pyplot as plt\n",
        "import seaborn as sns\n",
        "from collections import Counter\n",
        "import warnings\n",
        "warnings.filterwarnings('ignore')\n",
        "\n",
        "# Machine Learning - Statistical Models\n",
        "from sklearn.feature_extraction.text import TfidfVectorizer\n",
        "from sklearn.linear_model import LogisticRegression\n",
        "from sklearn.naive_bayes import MultinomialNB\n",
        "from sklearn.metrics import (\n",
        "    classification_report,\n",
        "    confusion_matrix,\n",
        "    accuracy_score,\n",
        "    f1_score,\n",
        "    precision_recall_fscore_support\n",
        ")\n",
        "from sklearn.pipeline import Pipeline\n",
        "\n",
        "# Machine Learning - Transformer Models\n",
        "from transformers import (\n",
        "    AutoTokenizer,\n",
        "    AutoModelForSequenceClassification,\n",
        "    TrainingArguments,\n",
        "    Trainer,\n",
        "    EarlyStoppingCallback\n",
        ")\n",
        "import torch\n",
        "from torch.utils.data import Dataset\n",
        "\n",
        "# Dataset loading\n",
        "from datasets import load_dataset\n",
        "\n",
        "# Set random seeds for reproducibility\n",
        "import random\n",
        "RANDOM_SEED = 42\n",
        "random.seed(RANDOM_SEED)\n",
        "np.random.seed(RANDOM_SEED)\n",
        "torch.manual_seed(RANDOM_SEED)\n",
        "if torch.cuda.is_available():\n",
        "    torch.cuda.manual_seed_all(RANDOM_SEED)\n",
        "\n",
        "# Configure matplotlib and seaborn for better plots\n",
        "plt.style.use('default')\n",
        "sns.set_palette(\"husl\")\n",
        "plt.rcParams['figure.figsize'] = (10, 6)\n",
        "plt.rcParams['font.size'] = 12\n",
        "\n",
        "print(\"✅ All libraries imported successfully!\")\n",
        "print(f\"📦 PyTorch version: {torch.__version__}\")\n",
        "print(f\"🤗 Transformers available: {True}\")\n",
        "print(f\"🔢 CUDA available: {torch.cuda.is_available()}\")\n",
        "\n",
        "# Set device for training\n",
        "device = torch.device('cuda' if torch.cuda.is_available() else 'cpu')\n",
        "print(f\"🖥️ Using device: {device}\")\n"
      ]
    },
    {
      "cell_type": "markdown",
      "metadata": {},
      "source": [
        "## Objectives\n",
        "\n",
        "The primary objective of this project is to conduct a comparative analysis of two distinct machine learning paradigms for the task of emotion detection in short-form text. The study aims to implement and evaluate both a traditional statistical model and a modern, embedding-based transformer model to provide a clear, evidence-based assessment of their respective capabilities and trade-offs.\n",
        "\n",
        "The specific objectives required to achieve this goal are as follows:\n",
        "\n",
        "* To implement two separate data pre-processing pipelines tailored to the unique input requirements of statistical and transformer-based models.\n",
        "* To build and train a classical classifier using Logistic Regression with TF-IDF features, establishing a robust statistical baseline.\n",
        "* To fine-tune a pre-trained DistilBERT model to serve as an example of an efficient, contemporary embedding-based approach.\n",
        "* To perform a rigorous, quantitative evaluation of both models on a held-out test set, using metrics such as accuracy and F1-score to compare their performance directly.\n",
        "* To analyse the results critically, discussing not only the performance differences but also the practical trade-offs regarding computational efficiency and model interpretability.\n",
        "\n",
        "By fulfilling these objectives, this project will contribute a reproducible and practical comparison that highlights the strengths and weaknesses of each approach, offering insight into model selection for real-world emotion detection applications.\n"
      ]
    },
    {
      "cell_type": "markdown",
      "metadata": {
        "id": "0zixHlm8FTsT",
        "vscode": {
          "languageId": "raw"
        }
      },
      "source": [
        "## Data Loading and Exploration\n"
      ]
    },
    {
      "cell_type": "code",
      "execution_count": 23,
      "metadata": {
        "colab": {
          "base_uri": "https://localhost:8080/"
        },
        "id": "cs0IWREcFTsT",
        "outputId": "da7231c6-c361-493d-f9b1-94b7cfd7c717"
      },
      "outputs": [
        {
          "name": "stdout",
          "output_type": "stream",
          "text": [
            "Requirement already satisfied: datasets in /usr/local/lib/python3.11/dist-packages (3.6.0)\n",
            "Requirement already satisfied: huggingface_hub in /usr/local/lib/python3.11/dist-packages (0.33.1)\n",
            "Requirement already satisfied: filelock in /usr/local/lib/python3.11/dist-packages (from datasets) (3.18.0)\n",
            "Requirement already satisfied: numpy>=1.17 in /usr/local/lib/python3.11/dist-packages (from datasets) (2.0.2)\n",
            "Requirement already satisfied: pyarrow>=15.0.0 in /usr/local/lib/python3.11/dist-packages (from datasets) (18.1.0)\n",
            "Requirement already satisfied: dill<0.3.9,>=0.3.0 in /usr/local/lib/python3.11/dist-packages (from datasets) (0.3.7)\n",
            "Requirement already satisfied: pandas in /usr/local/lib/python3.11/dist-packages (from datasets) (2.2.2)\n",
            "Requirement already satisfied: requests>=2.32.2 in /usr/local/lib/python3.11/dist-packages (from datasets) (2.32.3)\n",
            "Requirement already satisfied: tqdm>=4.66.3 in /usr/local/lib/python3.11/dist-packages (from datasets) (4.67.1)\n",
            "Requirement already satisfied: xxhash in /usr/local/lib/python3.11/dist-packages (from datasets) (3.5.0)\n",
            "Requirement already satisfied: multiprocess<0.70.17 in /usr/local/lib/python3.11/dist-packages (from datasets) (0.70.15)\n",
            "Requirement already satisfied: fsspec<=2025.3.0,>=2023.1.0 in /usr/local/lib/python3.11/dist-packages (from fsspec[http]<=2025.3.0,>=2023.1.0->datasets) (2025.3.0)\n",
            "Requirement already satisfied: packaging in /usr/local/lib/python3.11/dist-packages (from datasets) (24.2)\n",
            "Requirement already satisfied: pyyaml>=5.1 in /usr/local/lib/python3.11/dist-packages (from datasets) (6.0.2)\n",
            "Requirement already satisfied: typing-extensions>=3.7.4.3 in /usr/local/lib/python3.11/dist-packages (from huggingface_hub) (4.14.0)\n",
            "Requirement already satisfied: hf-xet<2.0.0,>=1.1.2 in /usr/local/lib/python3.11/dist-packages (from huggingface_hub) (1.1.5)\n",
            "Requirement already satisfied: aiohttp!=4.0.0a0,!=4.0.0a1 in /usr/local/lib/python3.11/dist-packages (from fsspec[http]<=2025.3.0,>=2023.1.0->datasets) (3.11.15)\n",
            "Requirement already satisfied: charset-normalizer<4,>=2 in /usr/local/lib/python3.11/dist-packages (from requests>=2.32.2->datasets) (3.4.2)\n",
            "Requirement already satisfied: idna<4,>=2.5 in /usr/local/lib/python3.11/dist-packages (from requests>=2.32.2->datasets) (3.10)\n",
            "Requirement already satisfied: urllib3<3,>=1.21.1 in /usr/local/lib/python3.11/dist-packages (from requests>=2.32.2->datasets) (2.4.0)\n",
            "Requirement already satisfied: certifi>=2017.4.17 in /usr/local/lib/python3.11/dist-packages (from requests>=2.32.2->datasets) (2025.6.15)\n",
            "Requirement already satisfied: python-dateutil>=2.8.2 in /usr/local/lib/python3.11/dist-packages (from pandas->datasets) (2.9.0.post0)\n",
            "Requirement already satisfied: pytz>=2020.1 in /usr/local/lib/python3.11/dist-packages (from pandas->datasets) (2025.2)\n",
            "Requirement already satisfied: tzdata>=2022.7 in /usr/local/lib/python3.11/dist-packages (from pandas->datasets) (2025.2)\n",
            "Requirement already satisfied: aiohappyeyeballs>=2.3.0 in /usr/local/lib/python3.11/dist-packages (from aiohttp!=4.0.0a0,!=4.0.0a1->fsspec[http]<=2025.3.0,>=2023.1.0->datasets) (2.6.1)\n",
            "Requirement already satisfied: aiosignal>=1.1.2 in /usr/local/lib/python3.11/dist-packages (from aiohttp!=4.0.0a0,!=4.0.0a1->fsspec[http]<=2025.3.0,>=2023.1.0->datasets) (1.3.2)\n",
            "Requirement already satisfied: attrs>=17.3.0 in /usr/local/lib/python3.11/dist-packages (from aiohttp!=4.0.0a0,!=4.0.0a1->fsspec[http]<=2025.3.0,>=2023.1.0->datasets) (25.3.0)\n",
            "Requirement already satisfied: frozenlist>=1.1.1 in /usr/local/lib/python3.11/dist-packages (from aiohttp!=4.0.0a0,!=4.0.0a1->fsspec[http]<=2025.3.0,>=2023.1.0->datasets) (1.7.0)\n",
            "Requirement already satisfied: multidict<7.0,>=4.5 in /usr/local/lib/python3.11/dist-packages (from aiohttp!=4.0.0a0,!=4.0.0a1->fsspec[http]<=2025.3.0,>=2023.1.0->datasets) (6.4.4)\n",
            "Requirement already satisfied: propcache>=0.2.0 in /usr/local/lib/python3.11/dist-packages (from aiohttp!=4.0.0a0,!=4.0.0a1->fsspec[http]<=2025.3.0,>=2023.1.0->datasets) (0.3.2)\n",
            "Requirement already satisfied: yarl<2.0,>=1.17.0 in /usr/local/lib/python3.11/dist-packages (from aiohttp!=4.0.0a0,!=4.0.0a1->fsspec[http]<=2025.3.0,>=2023.1.0->datasets) (1.20.1)\n",
            "Requirement already satisfied: six>=1.5 in /usr/local/lib/python3.11/dist-packages (from python-dateutil>=2.8.2->pandas->datasets) (1.17.0)\n",
            "📥 Loading emotion dataset...\n",
            "✅ Dataset loaded successfully!\n",
            "📊 Dataset sizes:\n",
            "   Training: 18,000 samples\n",
            "   Test: 2,000 samples\n",
            "   Total: 20,000 samples\n",
            "\n",
            "🏷️ Emotion labels: ['sadness', 'joy', 'love', 'anger', 'fear', 'surprise']\n",
            "📝 Example texts:\n",
            "   1. [sadness] i didnt feel humiliated...\n",
            "   2. [sadness] i can go from feeling so hopeless to so damned hopeful just from being around so...\n",
            "   3. [anger] im grabbing a minute to post i feel greedy wrong...\n"
          ]
        }
      ],
      "source": [
        "!pip install --upgrade datasets huggingface_hub\n",
        "\n",
        "# Load the emotion dataset from Hugging Face\n",
        "print(\"📥 Loading emotion dataset...\")\n",
        "try:\n",
        "    dataset = load_dataset(\"dair-ai/emotion\")\n",
        "    print(\"✅ Dataset loaded successfully!\")\n",
        "except Exception as e:\n",
        "    print(f\"❌ Error loading dataset: {e}\")\n",
        "    raise\n",
        "\n",
        "# Convert to pandas DataFrames for easier manipulation\n",
        "train_df = pd.DataFrame(dataset['train'])\n",
        "val_df = pd.DataFrame(dataset['validation'])\n",
        "test_df = pd.DataFrame(dataset['test'])\n",
        "\n",
        "# Combine training and validation for larger training set\n",
        "full_train_df = pd.concat([train_df, val_df], ignore_index=True)\n",
        "\n",
        "print(f\"📊 Dataset sizes:\")\n",
        "print(f\"   Training: {len(full_train_df):,} samples\")\n",
        "print(f\"   Test: {len(test_df):,} samples\")\n",
        "print(f\"   Total: {len(full_train_df) + len(test_df):,} samples\")\n",
        "\n",
        "# Define emotion label mapping\n",
        "id2label = {0: \"sadness\", 1: \"joy\", 2: \"love\", 3: \"anger\", 4: \"fear\", 5: \"surprise\"}\n",
        "label2id = {v: k for k, v in id2label.items()}\n",
        "\n",
        "# Add emotion names to dataframes\n",
        "full_train_df['emotion'] = full_train_df['label'].map(id2label)\n",
        "test_df['emotion'] = test_df['label'].map(id2label)\n",
        "\n",
        "print(f\"\\n🏷️ Emotion labels: {list(id2label.values())}\")\n",
        "print(f\"📝 Example texts:\")\n",
        "for i in range(3):\n",
        "    print(f\"   {i+1}. [{full_train_df.iloc[i]['emotion']}] {full_train_df.iloc[i]['text'][:80]}...\")\n"
      ]
    },
    {
      "cell_type": "markdown",
      "metadata": {
        "id": "WkYD9skJFTsU",
        "vscode": {
          "languageId": "raw"
        }
      },
      "source": [
        "### Exploratory Data Analysis\n"
      ]
    },
    {
      "cell_type": "code",
      "execution_count": 24,
      "metadata": {
        "colab": {
          "base_uri": "https://localhost:8080/",
          "height": 752
        },
        "id": "3cwZXigUFTsU",
        "outputId": "dc8630a2-6f64-483d-f1eb-18fa472227a9"
      },
      "outputs": [
        {
          "data": {
            "image/png": "[encoded data removed]",
            "text/plain": [
              "<Figure size 1500x600 with 2 Axes>"
            ]
          },
          "metadata": {},
          "output_type": "display_data"
        },
        {
          "name": "stdout",
          "output_type": "stream",
          "text": [
            "📈 Class Distribution Analysis:\n",
            "\n",
            "Training Set:\n",
            "   joy: 6,066 (33.7%)\n",
            "   sadness: 5,216 (29.0%)\n",
            "   anger: 2,434 (13.5%)\n",
            "   fear: 2,149 (11.9%)\n",
            "   love: 1,482 (8.2%)\n",
            "   surprise: 653 (3.6%)\n",
            "\n",
            "Test Set:\n",
            "   joy: 695 (34.8%)\n",
            "   sadness: 581 (29.0%)\n",
            "   anger: 275 (13.8%)\n",
            "   fear: 224 (11.2%)\n",
            "   love: 159 (8.0%)\n",
            "   surprise: 66 (3.3%)\n",
            "\n",
            "⚖️ Class Imbalance Ratio: 9.29:1 (most:least common)\n",
            "⚠️ Significant class imbalance detected - consider using balanced class weights\n"
          ]
        }
      ],
      "source": [
        "# Analyze class distribution\n",
        "fig, axes = plt.subplots(1, 2, figsize=(15, 6))\n",
        "\n",
        "# Training set distribution\n",
        "train_counts = full_train_df['emotion'].value_counts()\n",
        "axes[0].bar(train_counts.index, train_counts.values, color=sns.color_palette(\"husl\", len(train_counts)))\n",
        "axes[0].set_title('Training Set - Emotion Distribution')\n",
        "axes[0].set_xlabel('Emotion')\n",
        "axes[0].set_ylabel('Count')\n",
        "axes[0].tick_params(axis='x', rotation=45)\n",
        "\n",
        "# Test set distribution\n",
        "test_counts = test_df['emotion'].value_counts()\n",
        "axes[1].bar(test_counts.index, test_counts.values, color=sns.color_palette(\"husl\", len(test_counts)))\n",
        "axes[1].set_title('Test Set - Emotion Distribution')\n",
        "axes[1].set_xlabel('Emotion')\n",
        "axes[1].set_ylabel('Count')\n",
        "axes[1].tick_params(axis='x', rotation=45)\n",
        "\n",
        "plt.tight_layout()\n",
        "plt.show()\n",
        "\n",
        "# Print statistics\n",
        "print(\"📈 Class Distribution Analysis:\")\n",
        "print(\"\\nTraining Set:\")\n",
        "for emotion, count in train_counts.items():\n",
        "    percentage = (count / len(full_train_df)) * 100\n",
        "    print(f\"   {emotion}: {count:,} ({percentage:.1f}%)\")\n",
        "\n",
        "print(\"\\nTest Set:\")\n",
        "for emotion, count in test_counts.items():\n",
        "    percentage = (count / len(test_df)) * 100\n",
        "    print(f\"   {emotion}: {count:,} ({percentage:.1f}%)\")\n",
        "\n",
        "# Check for class imbalance\n",
        "most_common = train_counts.max()\n",
        "least_common = train_counts.min()\n",
        "imbalance_ratio = most_common / least_common\n",
        "print(f\"\\n⚖️ Class Imbalance Ratio: {imbalance_ratio:.2f}:1 (most:least common)\")\n",
        "\n",
        "if imbalance_ratio > 3:\n",
        "    print(\"⚠️ Significant class imbalance detected - consider using balanced class weights\")\n"
      ]
    },
    {
      "cell_type": "code",
      "execution_count": 25,
      "metadata": {
        "colab": {
          "base_uri": "https://localhost:8080/",
          "height": 644
        },
        "id": "z1LRAQiSFTsV",
        "outputId": "b51e8182-2af6-4892-c02a-fdfa9e79e9cb"
      },
      "outputs": [
        {
          "data": {
            "image/png": "[encoded data removed]",
            "text/plain": [
              "<Figure size 1500x600 with 2 Axes>"
            ]
          },
          "metadata": {},
          "output_type": "display_data"
        },
        {
          "name": "stdout",
          "output_type": "stream",
          "text": [
            "📏 Text Length Statistics:\n",
            "   Mean: 96.7 characters\n",
            "   Median: 86.0 characters\n",
            "   Std: 55.8 characters\n",
            "   Min: 7 characters\n",
            "   Max: 300 characters\n",
            "\n",
            "📝 Sample texts by emotion:\n",
            "   SADNESS: i didnt feel humiliated...\n",
            "   JOY: i have been with petronas for years i feel that petronas has performed well and made a huge profit...\n",
            "   LOVE: i am ever feeling nostalgic about the fireplace i will know that it is still on the property...\n",
            "   ANGER: im grabbing a minute to post i feel greedy wrong...\n",
            "   FEAR: i feel as confused about life as a teenager or as jaded as a year old man...\n",
            "   SURPRISE: ive been taking or milligrams or times recommended amount and ive fallen asleep a lot faster but i a...\n"
          ]
        }
      ],
      "source": [
        "# Analyze text length distribution\n",
        "full_train_df['text_length'] = full_train_df['text'].str.len()\n",
        "test_df['text_length'] = test_df['text'].str.len()\n",
        "\n",
        "fig, axes = plt.subplots(1, 2, figsize=(15, 6))\n",
        "\n",
        "# Text length by emotion\n",
        "sns.boxplot(data=full_train_df, x='emotion', y='text_length', ax=axes[0])\n",
        "axes[0].set_title('Text Length Distribution by Emotion')\n",
        "axes[0].set_xlabel('Emotion')\n",
        "axes[0].set_ylabel('Character Count')\n",
        "axes[0].tick_params(axis='x', rotation=45)\n",
        "\n",
        "# Overall text length histogram\n",
        "axes[1].hist(full_train_df['text_length'], bins=50, alpha=0.7, color='skyblue', edgecolor='black')\n",
        "axes[1].set_title('Overall Text Length Distribution')\n",
        "axes[1].set_xlabel('Character Count')\n",
        "axes[1].set_ylabel('Frequency')\n",
        "axes[1].axvline(full_train_df['text_length'].mean(), color='red', linestyle='--',\n",
        "                label=f'Mean: {full_train_df[\"text_length\"].mean():.1f}')\n",
        "axes[1].legend()\n",
        "\n",
        "plt.tight_layout()\n",
        "plt.show()\n",
        "\n",
        "# Text length statistics\n",
        "print(\"📏 Text Length Statistics:\")\n",
        "print(f\"   Mean: {full_train_df['text_length'].mean():.1f} characters\")\n",
        "print(f\"   Median: {full_train_df['text_length'].median():.1f} characters\")\n",
        "print(f\"   Std: {full_train_df['text_length'].std():.1f} characters\")\n",
        "print(f\"   Min: {full_train_df['text_length'].min()} characters\")\n",
        "print(f\"   Max: {full_train_df['text_length'].max()} characters\")\n",
        "\n",
        "# Sample texts for each emotion\n",
        "print(\"\\n📝 Sample texts by emotion:\")\n",
        "for emotion in id2label.values():\n",
        "    sample_text = full_train_df[full_train_df['emotion'] == emotion]['text'].iloc[0]\n",
        "    print(f\"   {emotion.upper()}: {sample_text[:100]}...\")\n"
      ]
    },
    {
      "cell_type": "markdown",
      "metadata": {
        "id": "9V1vxxTvFTsV",
        "vscode": {
          "languageId": "raw"
        }
      },
      "source": [
        "# Part 1: Statistical Models with TF-IDF Features\n",
        "\n",
        "Statistical models form the foundation of text classification. We'll implement two classical approaches:\n",
        "1. **Naive Bayes**: Baseline probabilistic classifier\n",
        "2. **Logistic Regression**: Linear classifier with regularization\n"
      ]
    },
    {
      "cell_type": "markdown",
      "metadata": {
        "id": "OTcpONqpFTsW",
        "vscode": {
          "languageId": "raw"
        }
      },
      "source": [
        "## Data Preprocessing for Statistical Models\n"
      ]
    },
    {
      "cell_type": "code",
      "execution_count": 26,
      "metadata": {
        "colab": {
          "base_uri": "https://localhost:8080/"
        },
        "id": "swESaWNDFTsW",
        "outputId": "ae39c411-8780-4fdd-ce77-b808b1330047"
      },
      "outputs": [
        {
          "name": "stdout",
          "output_type": "stream",
          "text": [
            "🔄 Preparing data for statistical models...\n",
            "✅ Training samples: 18,000\n",
            "✅ Test samples: 2,000\n",
            "📝 Sample cleaned text: 'i didnt feel humiliated...'\n",
            "🔍 Missing values in training: 0\n",
            "🔍 Missing values in test: 0\n"
          ]
        }
      ],
      "source": [
        "# Prepare data for statistical models\n",
        "print(\"🔄 Preparing data for statistical models...\")\n",
        "\n",
        "# Clean text data - basic preprocessing\n",
        "def clean_text(text):\n",
        "    \"\"\"Basic text cleaning for statistical models\"\"\"\n",
        "    if pd.isna(text):\n",
        "        return \"\"\n",
        "    # Convert to lowercase and strip whitespace\n",
        "    return str(text).lower().strip()\n",
        "\n",
        "# Apply cleaning\n",
        "X_train_stat = full_train_df['text'].apply(clean_text)\n",
        "y_train_stat = full_train_df['label']\n",
        "X_test_stat = test_df['text'].apply(clean_text)\n",
        "y_test_stat = test_df['label']\n",
        "\n",
        "print(f\"✅ Training samples: {len(X_train_stat):,}\")\n",
        "print(f\"✅ Test samples: {len(X_test_stat):,}\")\n",
        "print(f\"📝 Sample cleaned text: '{X_train_stat.iloc[0][:100]}...'\")\n",
        "\n",
        "# Verify no missing values\n",
        "print(f\"🔍 Missing values in training: {X_train_stat.isna().sum()}\")\n",
        "print(f\"🔍 Missing values in test: {X_test_stat.isna().sum()}\")\n"
      ]
    },
    {
      "cell_type": "markdown",
      "metadata": {
        "id": "teOy5zTbFTsX",
        "vscode": {
          "languageId": "raw"
        }
      },
      "source": [
        "## Enhanced TF-IDF Vectorization\n"
      ]
    },
    {
      "cell_type": "code",
      "execution_count": 27,
      "metadata": {
        "colab": {
          "base_uri": "https://localhost:8080/"
        },
        "id": "mlTVzIUBFTsX",
        "outputId": "79ad71e0-3e96-4a03-8fe5-d8a52975466d"
      },
      "outputs": [
        {
          "name": "stdout",
          "output_type": "stream",
          "text": [
            "🔧 Creating enhanced TF-IDF vectorizer...\n",
            "📊 Fitting TF-IDF vectorizer on training data...\n",
            "✅ TF-IDF vectorization complete!\n",
            "📏 Training matrix shape: (18000, 10000)\n",
            "📏 Test matrix shape: (2000, 10000)\n",
            "📖 Vocabulary size: 10,000\n",
            "💾 Matrix density: 0.0010\n",
            "🔤 Sample features: ['aa', 'abandon', 'abandoned', 'abandoning', 'abandonment', 'abc', 'abdomen', 'abide', 'abilities', 'ability']\n",
            "🔤 Sample bigrams: ['ability empathize', 'able amazing', 'able care', 'able catch', 'able come']\n",
            "✅ TF-IDF vectorization complete!\n",
            "📏 Training matrix shape: (18000, 10000)\n",
            "📏 Test matrix shape: (2000, 10000)\n",
            "📖 Vocabulary size: 10,000\n",
            "💾 Matrix density: 0.0010\n",
            "🔤 Sample features: ['aa', 'abandon', 'abandoned', 'abandoning', 'abandonment', 'abc', 'abdomen', 'abide', 'abilities', 'ability']\n",
            "🔤 Sample bigrams: ['ability empathize', 'able amazing', 'able care', 'able catch', 'able come']\n"
          ]
        }
      ],
      "source": [
        "# Enhanced TF-IDF vectorization with optimized parameters (2024 best practices)\n",
        "print(\"🔧 Creating enhanced TF-IDF vectorizer...\")\n",
        "\n",
        "# Create TF-IDF vectorizer with advanced parameters\n",
        "tfidf_vectorizer = TfidfVectorizer(\n",
        "    max_features=10000,          # Increased from 5000 for better representation\n",
        "    ngram_range=(1, 2),          # Include both unigrams and bigrams\n",
        "    min_df=2,                    # Remove very rare terms (appear in <2 documents)\n",
        "    max_df=0.95,                 # Remove very common terms (appear in >95% of documents)\n",
        "    stop_words='english',        # Remove English stop words\n",
        "    lowercase=True,              # Convert to lowercase\n",
        "    token_pattern=r'\\b[a-zA-Z][a-zA-Z]+\\b',  # Only alphabetic tokens (min 2 chars)\n",
        "    strip_accents='unicode',     # Remove accents\n",
        "    norm='l2',                   # L2 normalization\n",
        "    use_idf=True,                # Use IDF weighting\n",
        "    smooth_idf=True,             # Add 1 to document frequencies\n",
        "    sublinear_tf=True           # Apply log scaling to term frequencies\n",
        "    # Note: TfidfVectorizer is deterministic, so no random_state parameter needed\n",
        ")\n",
        "\n",
        "# Fit and transform the training data\n",
        "print(\"📊 Fitting TF-IDF vectorizer on training data...\")\n",
        "X_train_tfidf = tfidf_vectorizer.fit_transform(X_train_stat)\n",
        "\n",
        "# Transform test data\n",
        "X_test_tfidf = tfidf_vectorizer.transform(X_test_stat)\n",
        "\n",
        "print(f\"✅ TF-IDF vectorization complete!\")\n",
        "print(f\"📏 Training matrix shape: {X_train_tfidf.shape}\")\n",
        "print(f\"📏 Test matrix shape: {X_test_tfidf.shape}\")\n",
        "print(f\"📖 Vocabulary size: {len(tfidf_vectorizer.vocabulary_):,}\")\n",
        "print(f\"💾 Matrix density: {X_train_tfidf.nnz / np.prod(X_train_tfidf.shape):.4f}\")\n",
        "\n",
        "# Show some feature names\n",
        "feature_names = tfidf_vectorizer.get_feature_names_out()\n",
        "print(f\"🔤 Sample features: {list(feature_names[:10])}\")\n",
        "print(f\"🔤 Sample bigrams: {[f for f in feature_names if ' ' in f][:5]}\")\n",
        "\n",
        "print(f\"✅ TF-IDF vectorization complete!\")\n",
        "print(f\"📏 Training matrix shape: {X_train_tfidf.shape}\")\n",
        "print(f\"📏 Test matrix shape: {X_test_tfidf.shape}\")\n",
        "print(f\"📖 Vocabulary size: {len(tfidf_vectorizer.vocabulary_):,}\")\n",
        "print(f\"💾 Matrix density: {X_train_tfidf.nnz / np.prod(X_train_tfidf.shape):.4f}\")\n",
        "\n",
        "# Show some feature names\n",
        "feature_names = tfidf_vectorizer.get_feature_names_out()\n",
        "print(f\"🔤 Sample features: {list(feature_names[:10])}\")\n",
        "print(f\"🔤 Sample bigrams: {[f for f in feature_names if ' ' in f][:5]}\")\n"
      ]
    },
    {
      "cell_type": "markdown",
      "metadata": {
        "id": "7rz6uFTtFTsX",
        "vscode": {
          "languageId": "raw"
        }
      },
      "source": [
        "## Model 1: Naive Bayes (Baseline)\n"
      ]
    },
    {
      "cell_type": "code",
      "execution_count": 28,
      "metadata": {
        "colab": {
          "base_uri": "https://localhost:8080/"
        },
        "id": "-whwkUadFTsX",
        "outputId": "9aa643ef-11f9-4852-80ea-d9b60300f225"
      },
      "outputs": [
        {
          "name": "stdout",
          "output_type": "stream",
          "text": [
            "🚀 Training Naive Bayes classifier...\n",
            "🔮 Making predictions...\n",
            "✅ Naive Bayes Results:\n",
            "   📊 Accuracy: 0.8385 (83.85%)\n",
            "   📊 F1-Score (Macro): 0.7539\n",
            "   📊 F1-Score (Weighted): 0.8306\n",
            "\n",
            "📋 Detailed Classification Report:\n",
            "              precision    recall  f1-score   support\n",
            "\n",
            "     sadness     0.8503    0.9191    0.8834       581\n",
            "         joy     0.8068    0.9496    0.8724       695\n",
            "        love     0.8269    0.5409    0.6540       159\n",
            "       anger     0.8987    0.7418    0.8127       275\n",
            "        fear     0.8718    0.7589    0.8115       224\n",
            "    surprise     0.8214    0.3485    0.4894        66\n",
            "\n",
            "    accuracy                         0.8385      2000\n",
            "   macro avg     0.8460    0.7098    0.7539      2000\n",
            "weighted avg     0.8415    0.8385    0.8306      2000\n",
            "\n"
          ]
        }
      ],
      "source": [
        "# Naive Bayes - Baseline Model\n",
        "print(\"🚀 Training Naive Bayes classifier...\")\n",
        "\n",
        "# Create and train Naive Bayes model with optimized parameters\n",
        "nb_model = MultinomialNB(\n",
        "    alpha=0.1,           # Laplace smoothing parameter (optimized)\n",
        "    fit_prior=True,      # Learn class prior probabilities\n",
        "    class_prior=None     # Use empirical class frequencies\n",
        ")\n",
        "\n",
        "# Train the model\n",
        "nb_model.fit(X_train_tfidf, y_train_stat)\n",
        "\n",
        "# Make predictions\n",
        "print(\"🔮 Making predictions...\")\n",
        "nb_predictions = nb_model.predict(X_test_tfidf)\n",
        "nb_probabilities = nb_model.predict_proba(X_test_tfidf)\n",
        "\n",
        "# Calculate metrics\n",
        "nb_accuracy = accuracy_score(y_test_stat, nb_predictions)\n",
        "nb_f1_macro = f1_score(y_test_stat, nb_predictions, average='macro')\n",
        "nb_f1_weighted = f1_score(y_test_stat, nb_predictions, average='weighted')\n",
        "\n",
        "print(f\"✅ Naive Bayes Results:\")\n",
        "print(f\"   📊 Accuracy: {nb_accuracy:.4f} ({nb_accuracy*100:.2f}%)\")\n",
        "print(f\"   📊 F1-Score (Macro): {nb_f1_macro:.4f}\")\n",
        "print(f\"   📊 F1-Score (Weighted): {nb_f1_weighted:.4f}\")\n",
        "\n",
        "# Detailed classification report\n",
        "print(f\"\\n📋 Detailed Classification Report:\")\n",
        "nb_report = classification_report(y_test_stat, nb_predictions,\n",
        "                                  target_names=list(id2label.values()),\n",
        "                                  digits=4)\n",
        "print(nb_report)\n"
      ]
    },
    {
      "cell_type": "code",
      "execution_count": 29,
      "metadata": {
        "colab": {
          "base_uri": "https://localhost:8080/",
          "height": 926
        },
        "id": "74L-rAIJFTsY",
        "outputId": "b8fbd463-0bf8-4e4b-9539-b6461b038a8e"
      },
      "outputs": [
        {
          "data": {
            "image/png": "[encoded data removed]",
            "text/plain": [
              "<Figure size 1000x800 with 2 Axes>"
            ]
          },
          "metadata": {},
          "output_type": "display_data"
        },
        {
          "name": "stdout",
          "output_type": "stream",
          "text": [
            "📊 Per-class Performance (Naive Bayes):\n",
            "    sadness: Prec=0.850, Rec=0.919, F1=0.883, Support=581\n",
            "        joy: Prec=0.807, Rec=0.950, F1=0.872, Support=695\n",
            "       love: Prec=0.827, Rec=0.541, F1=0.654, Support=159\n",
            "      anger: Prec=0.899, Rec=0.742, F1=0.813, Support=275\n",
            "       fear: Prec=0.872, Rec=0.759, F1=0.811, Support=224\n",
            "   surprise: Prec=0.821, Rec=0.348, F1=0.489, Support=66\n"
          ]
        }
      ],
      "source": [
        "# Visualize Naive Bayes confusion matrix\n",
        "plt.figure(figsize=(10, 8))\n",
        "nb_cm = confusion_matrix(y_test_stat, nb_predictions)\n",
        "\n",
        "# Create heatmap\n",
        "sns.heatmap(nb_cm, annot=True, fmt='d', cmap='Blues',\n",
        "            xticklabels=list(id2label.values()),\n",
        "            yticklabels=list(id2label.values()),\n",
        "            cbar_kws={'label': 'Count'})\n",
        "plt.title('Naive Bayes - Confusion Matrix', fontsize=16, fontweight='bold')\n",
        "plt.xlabel('Predicted Emotion', fontsize=12)\n",
        "plt.ylabel('True Emotion', fontsize=12)\n",
        "plt.xticks(rotation=45)\n",
        "plt.yticks(rotation=0)\n",
        "plt.tight_layout()\n",
        "plt.show()\n",
        "\n",
        "# Calculate per-class metrics\n",
        "print(\"📊 Per-class Performance (Naive Bayes):\")\n",
        "precision, recall, f1, support = precision_recall_fscore_support(\n",
        "    y_test_stat, nb_predictions, average=None, labels=range(6)\n",
        ")\n",
        "\n",
        "for i, emotion in enumerate(id2label.values()):\n",
        "    print(f\"   {emotion:>8}: Prec={precision[i]:.3f}, Rec={recall[i]:.3f}, \"\n",
        "          f\"F1={f1[i]:.3f}, Support={support[i]}\")\n"
      ]
    },
    {
      "cell_type": "markdown",
      "metadata": {
        "id": "VQEranmuFTsY",
        "vscode": {
          "languageId": "raw"
        }
      },
      "source": [
        "## Model 2: Logistic Regression\n"
      ]
    },
    {
      "cell_type": "code",
      "execution_count": 30,
      "metadata": {
        "colab": {
          "base_uri": "https://localhost:8080/"
        },
        "id": "uXO0Iu8WFTsY",
        "outputId": "f61c3fe6-88bb-49f1-e34b-a5ac86a09696"
      },
      "outputs": [
        {
          "name": "stdout",
          "output_type": "stream",
          "text": [
            "🚀 Training Logistic Regression classifier...\n",
            "🔮 Making predictions...\n",
            "✅ Logistic Regression Results:\n",
            "   📊 Accuracy: 0.8955 (89.55%)\n",
            "   📊 F1-Score (Macro): 0.8597\n",
            "   📊 F1-Score (Weighted): 0.8985\n",
            "\n",
            "🆚 Improvement over Naive Bayes:\n",
            "   📈 Accuracy: +0.0570 (+6.80%)\n",
            "   📈 F1-Macro: +0.1058 (+14.03%)\n",
            "\n",
            "📋 Detailed Classification Report:\n",
            "              precision    recall  f1-score   support\n",
            "\n",
            "     sadness     0.9635    0.9088    0.9353       581\n",
            "         joy     0.9533    0.8806    0.9155       695\n",
            "        love     0.6981    0.9308    0.7978       159\n",
            "       anger     0.8815    0.9200    0.9004       275\n",
            "        fear     0.8873    0.8438    0.8650       224\n",
            "    surprise     0.6224    0.9242    0.7439        66\n",
            "\n",
            "    accuracy                         0.8955      2000\n",
            "   macro avg     0.8344    0.9014    0.8597      2000\n",
            "weighted avg     0.9078    0.8955    0.8985      2000\n",
            "\n"
          ]
        }
      ],
      "source": [
        "# Logistic Regression with modern sklearn parameters\n",
        "print(\"🚀 Training Logistic Regression classifier...\")\n",
        "\n",
        "# Create and train Logistic Regression model with optimized parameters (2024 best practices)\n",
        "lr_model = LogisticRegression(\n",
        "    C=1.0,                          # Regularization strength (inverse)\n",
        "    penalty='l2',                   # L2 regularization\n",
        "    solver='lbfgs',                 # Optimizer (recommended for small datasets)\n",
        "    max_iter=1000,                  # Maximum iterations for convergence\n",
        "    class_weight='balanced',        # Handle class imbalance automatically\n",
        "    random_state=RANDOM_SEED,      # For reproducibility\n",
        "    n_jobs=-1                       # Use all available cores\n",
        ")\n",
        "\n",
        "# Train the model\n",
        "lr_model.fit(X_train_tfidf, y_train_stat)\n",
        "\n",
        "# Make predictions\n",
        "print(\"🔮 Making predictions...\")\n",
        "lr_predictions = lr_model.predict(X_test_tfidf)\n",
        "lr_probabilities = lr_model.predict_proba(X_test_tfidf)\n",
        "\n",
        "# Calculate metrics\n",
        "lr_accuracy = accuracy_score(y_test_stat, lr_predictions)\n",
        "lr_f1_macro = f1_score(y_test_stat, lr_predictions, average='macro')\n",
        "lr_f1_weighted = f1_score(y_test_stat, lr_predictions, average='weighted')\n",
        "\n",
        "print(f\"✅ Logistic Regression Results:\")\n",
        "print(f\"   📊 Accuracy: {lr_accuracy:.4f} ({lr_accuracy*100:.2f}%)\")\n",
        "print(f\"   📊 F1-Score (Macro): {lr_f1_macro:.4f}\")\n",
        "print(f\"   📊 F1-Score (Weighted): {lr_f1_weighted:.4f}\")\n",
        "\n",
        "# Compare with Naive Bayes\n",
        "print(f\"\\n🆚 Improvement over Naive Bayes:\")\n",
        "print(f\"   📈 Accuracy: {lr_accuracy - nb_accuracy:+.4f} ({((lr_accuracy/nb_accuracy)-1)*100:+.2f}%)\")\n",
        "print(f\"   📈 F1-Macro: {lr_f1_macro - nb_f1_macro:+.4f} ({((lr_f1_macro/nb_f1_macro)-1)*100:+.2f}%)\")\n",
        "\n",
        "# Detailed classification report\n",
        "print(f\"\\n📋 Detailed Classification Report:\")\n",
        "lr_report = classification_report(y_test_stat, lr_predictions,\n",
        "                                  target_names=list(id2label.values()),\n",
        "                                  digits=4)\n",
        "print(lr_report)\n"
      ]
    },
    {
      "cell_type": "code",
      "execution_count": 31,
      "metadata": {
        "colab": {
          "base_uri": "https://localhost:8080/",
          "height": 1000
        },
        "id": "BRDtiYYRFTsY",
        "outputId": "3745f4b2-7f6a-413f-99fd-153f4f19dbd5"
      },
      "outputs": [
        {
          "data": {
            "image/png": "[encoded data removed]",
            "text/plain": [
              "<Figure size 1000x800 with 2 Axes>"
            ]
          },
          "metadata": {},
          "output_type": "display_data"
        },
        {
          "name": "stdout",
          "output_type": "stream",
          "text": [
            "📊 Per-class Performance (Logistic Regression):\n",
            "    sadness: Prec=0.964, Rec=0.909, F1=0.935, Support=581\n",
            "        joy: Prec=0.953, Rec=0.881, F1=0.915, Support=695\n",
            "       love: Prec=0.698, Rec=0.931, F1=0.798, Support=159\n",
            "      anger: Prec=0.882, Rec=0.920, F1=0.900, Support=275\n",
            "       fear: Prec=0.887, Rec=0.844, F1=0.865, Support=224\n",
            "   surprise: Prec=0.622, Rec=0.924, F1=0.744, Support=66\n",
            "\n",
            "🎯 Top predictive features (highest absolute coefficients):\n",
            "\n",
            "   SADNESS:\n",
            "   📈 Positive indicators: ['punished', 'melancholy', 'lethargic', 'troubled', 'vain']\n",
            "   📉 Negative indicators: ['strange', 'weird', 'overwhelmed', 'sweet', 'impressed']\n",
            "\n",
            "   JOY:\n",
            "   📈 Positive indicators: ['pleasant', 'popular', 'resolved', 'successful', 'convinced']\n",
            "   📉 Negative indicators: ['strange', 'overwhelmed', 'weird', 'amazed', 'impressed']\n",
            "\n",
            "   LOVE:\n",
            "   📈 Positive indicators: ['caring', 'sympathetic', 'loving', 'lovely', 'loyal']\n",
            "   📉 Negative indicators: ['strange', 'overwhelmed', 'weird', 'amazing', 'funny']\n",
            "\n",
            "   ANGER:\n",
            "   📈 Positive indicators: ['dangerous', 'bothered', 'distracted', 'irritable', 'fucked']\n",
            "   📉 Negative indicators: ['weird', 'strange', 'overwhelmed', 'surprised', 'amazed']\n",
            "\n",
            "   FEAR:\n",
            "   📈 Positive indicators: ['shaken', 'terrified', 'apprehensive', 'reluctant', 'paranoid']\n",
            "   📉 Negative indicators: ['sweet', 'amazed', 'feel', 'funny', 'amazing']\n",
            "\n",
            "   SURPRISE:\n",
            "   📈 Positive indicators: ['amazed', 'impressed', 'surprised', 'curious', 'funny']\n",
            "   📉 Negative indicators: ['feel', 'lately', 'sweet', 'blessed', 'rushed']\n"
          ]
        }
      ],
      "source": [
        "# Visualize Logistic Regression confusion matrix\n",
        "plt.figure(figsize=(10, 8))\n",
        "lr_cm = confusion_matrix(y_test_stat, lr_predictions)\n",
        "\n",
        "# Create heatmap\n",
        "sns.heatmap(lr_cm, annot=True, fmt='d', cmap='Greens',\n",
        "            xticklabels=list(id2label.values()),\n",
        "            yticklabels=list(id2label.values()),\n",
        "            cbar_kws={'label': 'Count'})\n",
        "plt.title('Logistic Regression - Confusion Matrix', fontsize=16, fontweight='bold')\n",
        "plt.xlabel('Predicted Emotion', fontsize=12)\n",
        "plt.ylabel('True Emotion', fontsize=12)\n",
        "plt.xticks(rotation=45)\n",
        "plt.yticks(rotation=0)\n",
        "plt.tight_layout()\n",
        "plt.show()\n",
        "\n",
        "# Calculate per-class metrics\n",
        "print(\"📊 Per-class Performance (Logistic Regression):\")\n",
        "precision, recall, f1, support = precision_recall_fscore_support(\n",
        "    y_test_stat, lr_predictions, average=None, labels=range(6)\n",
        ")\n",
        "\n",
        "for i, emotion in enumerate(id2label.values()):\n",
        "    print(f\"   {emotion:>8}: Prec={precision[i]:.3f}, Rec={recall[i]:.3f}, \"\n",
        "          f\"F1={f1[i]:.3f}, Support={support[i]}\")\n",
        "\n",
        "# Feature importance analysis\n",
        "print(\"\\n🎯 Top predictive features (highest absolute coefficients):\")\n",
        "feature_names = tfidf_vectorizer.get_feature_names_out()\n",
        "\n",
        "# Get coefficients for each class\n",
        "for emotion_idx, emotion in enumerate(id2label.values()):\n",
        "    # Get coefficients for this emotion vs all others\n",
        "    coef = lr_model.coef_[emotion_idx]\n",
        "\n",
        "    # Get top positive and negative features\n",
        "    top_positive_idx = np.argsort(coef)[-5:][::-1]  # Top 5 positive\n",
        "    top_negative_idx = np.argsort(coef)[:5]          # Top 5 negative\n",
        "\n",
        "    print(f\"\\n   {emotion.upper()}:\")\n",
        "    print(f\"   📈 Positive indicators: {[feature_names[i] for i in top_positive_idx]}\")\n",
        "    print(f\"   📉 Negative indicators: {[feature_names[i] for i in top_negative_idx]}\")\n"
      ]
    },
    {
      "cell_type": "markdown",
      "metadata": {
        "id": "EI9SEJhKFTsZ",
        "vscode": {
          "languageId": "raw"
        }
      },
      "source": [
        "# Part 2: Transformer-Based Model (DistilBERT)\n",
        "\n",
        "DistilBERT is a distilled version of BERT that retains 97% of BERT's performance while being 60% faster and 40% smaller. We'll fine-tune it for emotion classification.\n"
      ]
    },
    {
      "cell_type": "markdown",
      "metadata": {
        "id": "WqFtc3_KFTsZ",
        "vscode": {
          "languageId": "raw"
        }
      },
      "source": [
        "## Transformer Setup and Data Preparation\n"
      ]
    },
    {
      "cell_type": "code",
      "execution_count": 32,
      "metadata": {
        "colab": {
          "base_uri": "https://localhost:8080/"
        },
        "id": "zdri2gG6FTsZ",
        "outputId": "430d4b1a-8b32-4980-eb4c-5a6a6e18085b"
      },
      "outputs": [
        {
          "name": "stdout",
          "output_type": "stream",
          "text": [
            "🤗 Setting up DistilBERT for emotion classification...\n"
          ]
        },
        {
          "name": "stderr",
          "output_type": "stream",
          "text": [
            "Some weights of DistilBertForSequenceClassification were not initialized from the model checkpoint at distilbert-base-uncased and are newly initialized: ['classifier.bias', 'classifier.weight', 'pre_classifier.bias', 'pre_classifier.weight']\n",
            "You should probably TRAIN this model on a down-stream task to be able to use it for predictions and inference.\n"
          ]
        },
        {
          "name": "stdout",
          "output_type": "stream",
          "text": [
            "✅ Model loaded on cuda\n",
            "📦 Model parameters: 66,958,086\n",
            "🎯 Number of classes: 6\n",
            "🔤 Tokenizer vocab size: 30,522\n",
            "\n",
            "🔧 Model configuration:\n",
            "   Labels: {0: 'sadness', 1: 'joy', 2: 'love', 3: 'anger', 4: 'fear', 5: 'surprise'}\n",
            "   Problem type: single_label_classification\n"
          ]
        }
      ],
      "source": [
        "# Setup DistilBERT model and tokenizer (2024 best practices)\n",
        "print(\"🤗 Setting up DistilBERT for emotion classification...\")\n",
        "\n",
        "model_name = \"distilbert-base-uncased\"\n",
        "\n",
        "# Initialize tokenizer with modern parameters\n",
        "tokenizer = AutoTokenizer.from_pretrained(\n",
        "    model_name,\n",
        "    do_lower_case=True,\n",
        "    add_prefix_space=False\n",
        ")\n",
        "\n",
        "# Initialize model with proper configuration\n",
        "bert_model = AutoModelForSequenceClassification.from_pretrained(\n",
        "    model_name,\n",
        "    num_labels=6,\n",
        "    id2label=id2label,\n",
        "    label2id=label2id,\n",
        "    problem_type=\"single_label_classification\"\n",
        ").to(device)\n",
        "\n",
        "print(f\"✅ Model loaded on {device}\")\n",
        "print(f\"📦 Model parameters: {bert_model.num_parameters():,}\")\n",
        "print(f\"🎯 Number of classes: {bert_model.config.num_labels}\")\n",
        "print(f\"🔤 Tokenizer vocab size: {tokenizer.vocab_size:,}\")\n",
        "\n",
        "# Verify model configuration\n",
        "print(f\"\\n🔧 Model configuration:\")\n",
        "print(f\"   Labels: {bert_model.config.id2label}\")\n",
        "print(f\"   Problem type: {bert_model.config.problem_type}\")\n"
      ]
    },
    {
      "cell_type": "code",
      "execution_count": 33,
      "metadata": {
        "colab": {
          "base_uri": "https://localhost:8080/"
        },
        "id": "h5-iK5mAFTsa",
        "outputId": "3e503e7e-e406-4733-c12f-853fa50a2388"
      },
      "outputs": [
        {
          "name": "stdout",
          "output_type": "stream",
          "text": [
            "📊 Preparing datasets for training...\n",
            "✅ Training dataset size: 18,000\n",
            "✅ Test dataset size: 2,000\n",
            "📏 Max sequence length: 128 tokens\n",
            "\n",
            "📝 Sample tokenization:\n",
            "   Text: 'i didnt feel humiliated...'\n",
            "   Tokens: ['i', 'didn', '##t', 'feel', 'humiliated']... (5 total)\n",
            "   Token IDs: [1045, 2134, 2102, 2514, 26608]...\n"
          ]
        }
      ],
      "source": [
        "# Create custom dataset class for PyTorch\n",
        "class EmotionDataset(Dataset):\n",
        "    def __init__(self, texts, labels, tokenizer, max_length=128):\n",
        "        self.texts = texts\n",
        "        self.labels = labels\n",
        "        self.tokenizer = tokenizer\n",
        "        self.max_length = max_length\n",
        "\n",
        "    def __len__(self):\n",
        "        return len(self.texts)\n",
        "\n",
        "    def __getitem__(self, idx):\n",
        "        text = str(self.texts.iloc[idx]) if hasattr(self.texts, 'iloc') else str(self.texts[idx])\n",
        "        label = self.labels.iloc[idx] if hasattr(self.labels, 'iloc') else self.labels[idx]\n",
        "\n",
        "        # Tokenize text\n",
        "        encoding = self.tokenizer(\n",
        "            text,\n",
        "            add_special_tokens=True,\n",
        "            max_length=self.max_length,\n",
        "            padding='max_length',\n",
        "            truncation=True,\n",
        "            return_attention_mask=True,\n",
        "            return_tensors='pt'\n",
        "        )\n",
        "\n",
        "        return {\n",
        "            'input_ids': encoding['input_ids'].flatten(),\n",
        "            'attention_mask': encoding['attention_mask'].flatten(),\n",
        "            'labels': torch.tensor(label, dtype=torch.long)\n",
        "        }\n",
        "\n",
        "# Prepare datasets\n",
        "print(\"📊 Preparing datasets for training...\")\n",
        "\n",
        "# Use original training data (not cleaned, as BERT handles this internally)\n",
        "train_texts = full_train_df['text'].reset_index(drop=True)\n",
        "train_labels = full_train_df['label'].reset_index(drop=True)\n",
        "test_texts = test_df['text'].reset_index(drop=True)\n",
        "test_labels = test_df['label'].reset_index(drop=True)\n",
        "\n",
        "# Create datasets\n",
        "train_dataset = EmotionDataset(train_texts, train_labels, tokenizer, max_length=128)\n",
        "test_dataset = EmotionDataset(test_texts, test_labels, tokenizer, max_length=128)\n",
        "\n",
        "print(f\"✅ Training dataset size: {len(train_dataset):,}\")\n",
        "print(f\"✅ Test dataset size: {len(test_dataset):,}\")\n",
        "print(f\"📏 Max sequence length: 128 tokens\")\n",
        "\n",
        "# Test tokenization\n",
        "sample_text = train_texts.iloc[0]\n",
        "sample_tokens = tokenizer.tokenize(sample_text)\n",
        "print(f\"\\n📝 Sample tokenization:\")\n",
        "print(f\"   Text: '{sample_text[:50]}...'\")\n",
        "print(f\"   Tokens: {sample_tokens[:10]}... ({len(sample_tokens)} total)\")\n",
        "print(f\"   Token IDs: {tokenizer.convert_tokens_to_ids(sample_tokens[:10])}...\")\n"
      ]
    },
    {
      "cell_type": "raw",
      "metadata": {
        "id": "vC4CQ6yTFTsa",
        "vscode": {
          "languageId": "raw"
        }
      },
      "source": [
        "## DistilBERT Fine-tuning and Training\n",
        "\n",
        "Now we'll fine-tune the DistilBERT model for emotion classification using the Hugging Face Trainer.\n"
      ]
    },
    {
      "cell_type": "code",
      "execution_count": 34,
      "metadata": {
        "colab": {
          "base_uri": "https://localhost:8080/"
        },
        "id": "Aym6Q6Q-FTsa",
        "outputId": "3834cfff-a290-4bbd-d7b0-50267de5118b"
      },
      "outputs": [
        {
          "name": "stdout",
          "output_type": "stream",
          "text": [
            "✅ Metrics computation function created!\n"
          ]
        }
      ],
      "source": [
        "# Step 1: Create a Metrics Computation Function\n",
        "def compute_metrics(pred):\n",
        "    \"\"\"\n",
        "    Compute accuracy and F1-macro scores for model evaluation.\n",
        "\n",
        "    Args:\n",
        "        pred: EvalPrediction object from Hugging Face Trainer\n",
        "\n",
        "    Returns:\n",
        "        Dictionary containing accuracy and f1_macro scores\n",
        "    \"\"\"\n",
        "    predictions = pred.predictions\n",
        "    labels = pred.label_ids\n",
        "\n",
        "    # Get predicted classes using argmax\n",
        "    predicted_classes = np.argmax(predictions, axis=1)\n",
        "\n",
        "    # Calculate metrics\n",
        "    accuracy = accuracy_score(labels, predicted_classes)\n",
        "    f1_macro = f1_score(labels, predicted_classes, average='macro')\n",
        "\n",
        "    return {\n",
        "        'accuracy': accuracy,\n",
        "        'f1_macro': f1_macro\n",
        "    }\n",
        "\n",
        "print(\"✅ Metrics computation function created!\")\n"
      ]
    },
    {
      "cell_type": "code",
      "execution_count": 35,
      "metadata": {
        "colab": {
          "base_uri": "https://localhost:8080/"
        },
        "id": "IvdNCUPQFTsa",
        "outputId": "8b42c02f-7c30-4bdf-d918-1de227cb80f4"
      },
      "outputs": [
        {
          "name": "stdout",
          "output_type": "stream",
          "text": [
            "🔧 Setting up training arguments...\n",
            "✅ Training arguments configured!\n",
            "📊 Training setup:\n",
            "   • Epochs: 4\n",
            "   • Batch size: 32\n",
            "   • Evaluation Strategy: IntervalStrategy.EPOCH\n",
            "   • Warmup steps: 500\n",
            "   • Weight decay: 0.01\n",
            "   • Best model metric: f1_macro\n",
            "   • Output directory: ./results\n"
          ]
        }
      ],
      "source": [
        "# Make sure you have the transformers library imported\n",
        "# from transformers import TrainingArguments\n",
        "\n",
        "# Assume RANDOM_SEED is defined elsewhere in your code, e.g., RANDOM_SEED = 42\n",
        "\n",
        "# Step 2: Define the TrainingArguments\n",
        "print(\"🔧 Setting up training arguments...\")\n",
        "\n",
        "training_args = TrainingArguments(\n",
        "    output_dir='./results',\n",
        "    num_train_epochs=4, # Or whatever you decided on\n",
        "    per_device_train_batch_size=32,\n",
        "    per_device_eval_batch_size=32,\n",
        "    warmup_steps=500,\n",
        "    weight_decay=0.01,\n",
        "    logging_dir='./logs',\n",
        "    logging_strategy=\"epoch\",\n",
        "    eval_strategy=\"epoch\", # or \"eval_strategy\", depending on your library version\n",
        "    save_strategy=\"epoch\",\n",
        "\n",
        "    # --- THIS IS THE FIX ---\n",
        "    # Explicitly disable all integrations, including wandb.\n",
        "    report_to=\"none\",\n",
        "\n",
        "    load_best_model_at_end=True,\n",
        "    metric_for_best_model=\"f1_macro\",\n",
        "    greater_is_better=True,\n",
        "    seed=RANDOM_SEED, # Make sure RANDOM_SEED is defined\n",
        "    save_total_limit=2,\n",
        ")\n",
        "\n",
        "print(\"✅ Training arguments configured!\")\n",
        "print(f\"📊 Training setup:\")\n",
        "print(f\"   • Epochs: {training_args.num_train_epochs}\")\n",
        "print(f\"   • Batch size: {training_args.per_device_train_batch_size}\")\n",
        "# Updated to show the correct argument\n",
        "print(f\"   • Evaluation Strategy: {training_args.eval_strategy}\")\n",
        "print(f\"   • Warmup steps: {training_args.warmup_steps}\")\n",
        "print(f\"   • Weight decay: {training_args.weight_decay}\")\n",
        "print(f\"   • Best model metric: {training_args.metric_for_best_model}\")\n",
        "print(f\"   • Output directory: {training_args.output_dir}\")"
      ]
    },
    {
      "cell_type": "code",
      "execution_count": 36,
      "metadata": {
        "colab": {
          "base_uri": "https://localhost:8080/",
          "height": 436
        },
        "id": "df6lZUnbFTsb",
        "outputId": "1058bd5d-b822-4dd6-eb6b-7285ac2fa78f"
      },
      "outputs": [
        {
          "name": "stdout",
          "output_type": "stream",
          "text": [
            "🚀 Setting up Trainer for DistilBERT fine-tuning...\n",
            "✅ Trainer instantiated successfully!\n",
            "📊 Training dataset size: 18,000\n",
            "📊 Evaluation dataset size: 2,000\n",
            "🎯 Model: distilbert-base-uncased\n",
            "🔢 Total parameters: 66,958,086\n",
            "\n",
            "🎯 Starting DistilBERT fine-tuning...\n",
            "⏰ This may take several minutes depending on your hardware...\n",
            "📈 Training progress will be displayed below:\n"
          ]
        },
        {
          "data": {
            "text/html": [
              "\n",
              "    <div>\n",
              "      \n",
              "      <progress value='2252' max='2252' style='width:300px; height:20px; vertical-align: middle;'></progress>\n",
              "      [2252/2252 12:58, Epoch 4/4]\n",
              "    </div>\n",
              "    <table border=\"1\" class=\"dataframe\">\n",
              "  <thead>\n",
              " <tr style=\"text-align: left;\">\n",
              "      <th>Epoch</th>\n",
              "      <th>Training Loss</th>\n",
              "      <th>Validation Loss</th>\n",
              "      <th>Accuracy</th>\n",
              "      <th>F1 Macro</th>\n",
              "    </tr>\n",
              "  </thead>\n",
              "  <tbody>\n",
              "    <tr>\n",
              "      <td>1</td>\n",
              "      <td>0.727800</td>\n",
              "      <td>0.212083</td>\n",
              "      <td>0.926000</td>\n",
              "      <td>0.876879</td>\n",
              "    </tr>\n",
              "    <tr>\n",
              "      <td>2</td>\n",
              "      <td>0.159600</td>\n",
              "      <td>0.142517</td>\n",
              "      <td>0.931500</td>\n",
              "      <td>0.888695</td>\n",
              "    </tr>\n",
              "    <tr>\n",
              "      <td>3</td>\n",
              "      <td>0.098000</td>\n",
              "      <td>0.162266</td>\n",
              "      <td>0.931500</td>\n",
              "      <td>0.881105</td>\n",
              "    </tr>\n",
              "    <tr>\n",
              "      <td>4</td>\n",
              "      <td>0.066100</td>\n",
              "      <td>0.181408</td>\n",
              "      <td>0.930500</td>\n",
              "      <td>0.889245</td>\n",
              "    </tr>\n",
              "  </tbody>\n",
              "</table><p>"
            ],
            "text/plain": [
              "<IPython.core.display.HTML object>"
            ]
          },
          "metadata": {},
          "output_type": "display_data"
        },
        {
          "name": "stdout",
          "output_type": "stream",
          "text": [
            "\n",
            "✅ Training completed successfully!\n",
            "🎉 DistilBERT fine-tuning finished!\n"
          ]
        }
      ],
      "source": [
        "# Step 3: Instantiate and Run the Trainer\n",
        "print(\"🚀 Setting up Trainer for DistilBERT fine-tuning...\")\n",
        "\n",
        "# Create the Trainer\n",
        "trainer = Trainer(\n",
        "    model=bert_model,                    # The pre-loaded DistilBERT model\n",
        "    args=training_args,                  # Training arguments\n",
        "    train_dataset=train_dataset,         # Training dataset\n",
        "    eval_dataset=test_dataset,           # Evaluation dataset (using test set for simplicity)\n",
        "    compute_metrics=compute_metrics,     # Metrics computation function\n",
        "    tokenizer=tokenizer,                 # Tokenizer for proper saving\n",
        ")\n",
        "\n",
        "print(\"✅ Trainer instantiated successfully!\")\n",
        "print(f\"📊 Training dataset size: {len(train_dataset):,}\")\n",
        "print(f\"📊 Evaluation dataset size: {len(test_dataset):,}\")\n",
        "print(f\"🎯 Model: {bert_model.config.name_or_path}\")\n",
        "print(f\"🔢 Total parameters: {bert_model.num_parameters():,}\")\n",
        "\n",
        "# Start training\n",
        "print(\"\\n🎯 Starting DistilBERT fine-tuning...\")\n",
        "print(\"⏰ This may take several minutes depending on your hardware...\")\n",
        "print(\"📈 Training progress will be displayed below:\")\n",
        "\n",
        "# Train the model\n",
        "trainer.train()\n",
        "\n",
        "print(\"\\n✅ Training completed successfully!\")\n",
        "print(\"🎉 DistilBERT fine-tuning finished!\")\n"
      ]
    },
    {
      "cell_type": "code",
      "execution_count": 37,
      "metadata": {
        "colab": {
          "base_uri": "https://localhost:8080/",
          "height": 720
        },
        "id": "41WXQnD3FTsb",
        "outputId": "fbc4cbda-9996-4192-a36a-42ba6d9936dd"
      },
      "outputs": [
        {
          "name": "stdout",
          "output_type": "stream",
          "text": [
            "📊 Performing final evaluation on test set...\n"
          ]
        },
        {
          "data": {
            "text/html": [
              "\n",
              "    <div>\n",
              "      \n",
              "      <progress value='63' max='63' style='width:300px; height:20px; vertical-align: middle;'></progress>\n",
              "      [63/63 00:06]\n",
              "    </div>\n",
              "    "
            ],
            "text/plain": [
              "<IPython.core.display.HTML object>"
            ]
          },
          "metadata": {},
          "output_type": "display_data"
        },
        {
          "name": "stdout",
          "output_type": "stream",
          "text": [
            "✅ Final evaluation completed!\n",
            "📈 DistilBERT Results:\n",
            "   • Accuracy: 0.9305 (93.05%)\n",
            "   • F1-Macro: 0.8892\n",
            "   • Loss: 0.1814\n",
            "\n",
            "🏆 Creating comprehensive performance metrics comparison...\n",
            "\n",
            "============================================================\n",
            "🎯 FINAL COMPARATIVE RESULTS\n",
            "============================================================\n",
            "\n",
            "📊 Naive Bayes:\n",
            "   • Accuracy:  0.8385 (83.85%)\n",
            "   • F1-Macro:  0.7539\n",
            "\n",
            "📊 Logistic Regression:\n",
            "   • Accuracy:  0.8955 (89.55%)\n",
            "   • F1-Macro:  0.8597\n",
            "\n",
            "📊 DistilBERT:\n",
            "   • Accuracy:  0.9305 (93.05%)\n",
            "   • F1-Macro:  0.8892\n",
            "\n",
            "🚀 PERFORMANCE IMPROVEMENTS:\n",
            "\n",
            "📈 DistilBERT vs Naive Bayes:\n",
            "   • Accuracy improvement: +10.97% (+0.0920)\n",
            "   • F1-Macro improvement: +17.95% (+0.1353)\n",
            "\n",
            "📈 DistilBERT vs Logistic Regression:\n",
            "   • Accuracy improvement: +3.91% (+0.0350)\n",
            "   • F1-Macro improvement: +3.44% (+0.0295)\n",
            "\n",
            "============================================================\n",
            "✨ Analysis complete! DistilBERT fine-tuning results are ready for comparison.\n",
            "============================================================\n"
          ]
        }
      ],
      "source": [
        "# Step 4: Final Evaluation and Storing Results\n",
        "print(\"📊 Performing final evaluation on test set...\")\n",
        "\n",
        "# Evaluate the trained model on test set\n",
        "distilbert_eval_results = trainer.evaluate(eval_dataset=test_dataset)\n",
        "\n",
        "print(\"✅ Final evaluation completed!\")\n",
        "print(f\"📈 DistilBERT Results:\")\n",
        "print(f\"   • Accuracy: {distilbert_eval_results['eval_accuracy']:.4f} ({distilbert_eval_results['eval_accuracy']*100:.2f}%)\")\n",
        "print(f\"   • F1-Macro: {distilbert_eval_results['eval_f1_macro']:.4f}\")\n",
        "print(f\"   • Loss: {distilbert_eval_results['eval_loss']:.4f}\")\n",
        "\n",
        "# Create comprehensive performance comparison\n",
        "print(\"\\n🏆 Creating comprehensive performance metrics comparison...\")\n",
        "\n",
        "# From the earlier results in your notebook:\n",
        "# Naive Bayes: 83.85% accuracy, 0.7539 F1-macro\n",
        "# Logistic Regression: 89.55% accuracy, 0.8597 F1-macro\n",
        "\n",
        "performance_metrics = {\n",
        "    'Naive Bayes': {\n",
        "        'accuracy': 0.8385,  # From your notebook results\n",
        "        'f1_macro': 0.7539   # From your notebook results\n",
        "    },\n",
        "    'Logistic Regression': {\n",
        "        'accuracy': 0.8955,  # From your notebook results\n",
        "        'f1_macro': 0.8597   # From your notebook results\n",
        "    },\n",
        "    'DistilBERT': {\n",
        "        'accuracy': distilbert_eval_results['eval_accuracy'],\n",
        "        'f1_macro': distilbert_eval_results['eval_f1_macro']\n",
        "    }\n",
        "}\n",
        "\n",
        "# Display final comparative results\n",
        "print(\"\\n\" + \"=\"*60)\n",
        "print(\"🎯 FINAL COMPARATIVE RESULTS\")\n",
        "print(\"=\"*60)\n",
        "\n",
        "for model_name, metrics in performance_metrics.items():\n",
        "    print(f\"\\n📊 {model_name}:\")\n",
        "    print(f\"   • Accuracy:  {metrics['accuracy']:.4f} ({metrics['accuracy']*100:.2f}%)\")\n",
        "    print(f\"   • F1-Macro:  {metrics['f1_macro']:.4f}\")\n",
        "\n",
        "# Calculate improvements\n",
        "print(\"\\n🚀 PERFORMANCE IMPROVEMENTS:\")\n",
        "nb_acc = performance_metrics['Naive Bayes']['accuracy']\n",
        "nb_f1 = performance_metrics['Naive Bayes']['f1_macro']\n",
        "lr_acc = performance_metrics['Logistic Regression']['accuracy']\n",
        "lr_f1 = performance_metrics['Logistic Regression']['f1_macro']\n",
        "bert_acc = performance_metrics['DistilBERT']['accuracy']\n",
        "bert_f1 = performance_metrics['DistilBERT']['f1_macro']\n",
        "\n",
        "print(f\"\\n📈 DistilBERT vs Naive Bayes:\")\n",
        "print(f\"   • Accuracy improvement: {((bert_acc/nb_acc)-1)*100:+.2f}% ({bert_acc-nb_acc:+.4f})\")\n",
        "print(f\"   • F1-Macro improvement: {((bert_f1/nb_f1)-1)*100:+.2f}% ({bert_f1-nb_f1:+.4f})\")\n",
        "\n",
        "print(f\"\\n📈 DistilBERT vs Logistic Regression:\")\n",
        "print(f\"   • Accuracy improvement: {((bert_acc/lr_acc)-1)*100:+.2f}% ({bert_acc-lr_acc:+.4f})\")\n",
        "print(f\"   • F1-Macro improvement: {((bert_f1/lr_f1)-1)*100:+.2f}% ({bert_f1-lr_f1:+.4f})\")\n",
        "\n",
        "print(\"\\n\" + \"=\"*60)\n",
        "print(\"✨ Analysis complete! DistilBERT fine-tuning results are ready for comparison.\")\n",
        "print(\"=\"*60)\n"
      ]
    },
    {
      "cell_type": "markdown",
      "metadata": {
        "id": "Za7U7YSeFTsb",
        "vscode": {
          "languageId": "raw"
        }
      },
      "source": [
        "# Emotion Detection: Comparative Analysis of Statistical vs Transformer Models\n",
        "\n",
        "## Overview\n",
        "\n",
        "This notebook provides a comprehensive comparative analysis of different approaches to emotion detection in text. We implement and evaluate three distinct model types:\n",
        "\n",
        "1.  **Statistical Models**: Naive Bayes (baseline) and Logistic Regression with TF-IDF features\n",
        "2.  **Transformer-Based Model**: Fine-tuned DistilBERT-base-uncased\n",
        "3.  **Comparative Analysis**: Performance evaluation and insights\n",
        "\n",
        "## Dataset\n",
        "\n",
        "-   **Source**: `dair-ai/emotion` from Hugging Face Datasets\n",
        "-   **Size**: ~20,000 short texts (primarily tweets)\n",
        "-   **Classes**: 6 emotions (sadness, joy, love, anger, fear, surprise)\n",
        "-   **Splits**: Train (16,000), Validation (2,000), Test (2,000)\n",
        "\n",
        "## Model Descriptions\n",
        "\n",
        "### Statistical Models\n",
        "\n",
        "-   **TF-IDF Features**: Term Frequency-Inverse Document Frequency vectorization\n",
        "-   **Naive Bayes**: Probabilistic classifier assuming feature independence\n",
        "-   **Logistic Regression**: Linear classifier with regularization\n",
        "\n",
        "### Transformer Model\n",
        "\n",
        "-   **DistilBERT**: Distilled version of BERT, 40% smaller, 60% faster\n",
        "-   **Fine-tuning**: Adapter layers added for emotion classification\n",
        "-   **Context**: Bidirectional attention mechanisms capture semantic relationships\n",
        "\n"
      ]
    },
    {
      "cell_type": "raw",
      "metadata": {
        "id": "W7GiuQAOFTsb",
        "vscode": {
          "languageId": "raw"
        }
      },
      "source": [
        "## 📦 Setup and Imports\n",
        "\n",
        "Installing and importing all necessary libraries for the analysis.\n"
      ]
    },
    {
      "cell_type": "code",
      "execution_count": 38,
      "metadata": {
        "colab": {
          "base_uri": "https://localhost:8080/"
        },
        "id": "_NSBfrEcFTsc",
        "outputId": "bb39ee0d-c2d2-406a-9661-8d3f8a9dbc86"
      },
      "outputs": [
        {
          "name": "stdout",
          "output_type": "stream",
          "text": [
            "✅ All libraries imported successfully!\n",
            "🔧 PyTorch version: 2.6.0+cu124\n",
            "🚀 CUDA available: True\n",
            "💾 Device: GPU\n"
          ]
        }
      ],
      "source": [
        "# !pip install datasets transformers torch scikit-learn pandas matplotlib seaborn accelerate\n",
        "\n",
        "# Standard libraries\n",
        "import pandas as pd\n",
        "import numpy as np\n",
        "import matplotlib.pyplot as plt\n",
        "import seaborn as sns\n",
        "import warnings\n",
        "from collections import Counter\n",
        "\n",
        "# Scikit-learn imports\n",
        "from sklearn.feature_extraction.text import TfidfVectorizer\n",
        "from sklearn.linear_model import LogisticRegression\n",
        "from sklearn.naive_bayes import MultinomialNB\n",
        "from sklearn.metrics import (\n",
        "    accuracy_score,\n",
        "    f1_score,\n",
        "    precision_score,\n",
        "    recall_score,\n",
        "    classification_report,\n",
        "    confusion_matrix\n",
        ")\n",
        "\n",
        "# Transformers imports\n",
        "from datasets import load_dataset\n",
        "from transformers import (\n",
        "    AutoTokenizer,\n",
        "    AutoModelForSequenceClassification,\n",
        "    TrainingArguments,\n",
        "    Trainer,\n",
        "    EarlyStoppingCallback\n",
        ")\n",
        "import torch\n",
        "\n",
        "# Configuration\n",
        "warnings.filterwarnings('ignore')\n",
        "plt.style.use('seaborn-v0_8')\n",
        "sns.set_palette(\"husl\")\n",
        "\n",
        "# Set random seeds for reproducibility\n",
        "np.random.seed(42)\n",
        "torch.manual_seed(42)\n",
        "if torch.cuda.is_available():\n",
        "    torch.cuda.manual_seed(42)\n",
        "\n",
        "print(\"✅ All libraries imported successfully!\")\n",
        "print(f\"🔧 PyTorch version: {torch.__version__}\")\n",
        "print(f\"🚀 CUDA available: {torch.cuda.is_available()}\")\n",
        "print(f\"💾 Device: {'GPU' if torch.cuda.is_available() else 'CPU'}\")\n"
      ]
    },
    {
      "cell_type": "markdown",
      "metadata": {
        "id": "Zr4ptYDyFTsc",
        "vscode": {
          "languageId": "raw"
        }
      },
      "source": [
        "## 📊 Data Loading and Exploration\n",
        "\n",
        "Loading the emotion dataset and performing initial exploratory data analysis.\n"
      ]
    },
    {
      "cell_type": "code",
      "execution_count": 39,
      "metadata": {
        "colab": {
          "base_uri": "https://localhost:8080/",
          "height": 332
        },
        "id": "mOelq5k8FTsc",
        "outputId": "bd89545a-8110-45ce-c442-9c541be3aa70"
      },
      "outputs": [
        {
          "name": "stdout",
          "output_type": "stream",
          "text": [
            "📥 Loading dair-ai/emotion dataset...\n",
            "✅ Dataset loaded successfully!\n",
            "📊 Training set size: 18000\n",
            "📊 Test set size: 2000\n",
            "📊 Total emotions: 6\n",
            "\n",
            "🔍 Sample training data:\n"
          ]
        },
        {
          "data": {
            "application/vnd.google.colaboratory.intrinsic+json": {
              "summary": "{\n  \"name\": \"display(full_train_df\",\n  \"rows\": 5,\n  \"fields\": [\n    {\n      \"column\": \"text\",\n      \"properties\": {\n        \"dtype\": \"string\",\n        \"num_unique_values\": 5,\n        \"samples\": [\n          \"i can go from feeling so hopeless to so damned hopeful just from being around someone who cares and is awake\",\n          \"i am feeling grouchy\",\n          \"im grabbing a minute to post i feel greedy wrong\"\n        ],\n        \"semantic_type\": \"\",\n        \"description\": \"\"\n      }\n    },\n    {\n      \"column\": \"label\",\n      \"properties\": {\n        \"dtype\": \"number\",\n        \"std\": 1,\n        \"min\": 0,\n        \"max\": 3,\n        \"num_unique_values\": 3,\n        \"samples\": [\n          0,\n          3,\n          2\n        ],\n        \"semantic_type\": \"\",\n        \"description\": \"\"\n      }\n    },\n    {\n      \"column\": \"emotion_name\",\n      \"properties\": {\n        \"dtype\": \"string\",\n        \"num_unique_values\": 3,\n        \"samples\": [\n          \"sadness\",\n          \"anger\",\n          \"love\"\n        ],\n        \"semantic_type\": \"\",\n        \"description\": \"\"\n      }\n    }\n  ]\n}",
              "type": "dataframe"
            },
            "text/html": [
              "\n",
              "  <div id=\"df-ee0c6707-11bb-48f5-8740-460424302ef9\" class=\"colab-df-container\">\n",
              "    <div>\n",
              "<style scoped>\n",
              "    .dataframe tbody tr th:only-of-type {\n",
              "        vertical-align: middle;\n",
              "    }\n",
              "\n",
              "    .dataframe tbody tr th {\n",
              "        vertical-align: top;\n",
              "    }\n",
              "\n",
              "    .dataframe thead th {\n",
              "        text-align: right;\n",
              "    }\n",
              "</style>\n",
              "<table border=\"1\" class=\"dataframe\">\n",
              "  <thead>\n",
              "    <tr style=\"text-align: right;\">\n",
              "      <th></th>\n",
              "      <th>text</th>\n",
              "      <th>label</th>\n",
              "      <th>emotion_name</th>\n",
              "    </tr>\n",
              "  </thead>\n",
              "  <tbody>\n",
              "    <tr>\n",
              "      <th>0</th>\n",
              "      <td>i didnt feel humiliated</td>\n",
              "      <td>0</td>\n",
              "      <td>sadness</td>\n",
              "    </tr>\n",
              "    <tr>\n",
              "      <th>1</th>\n",
              "      <td>i can go from feeling so hopeless to so damned...</td>\n",
              "      <td>0</td>\n",
              "      <td>sadness</td>\n",
              "    </tr>\n",
              "    <tr>\n",
              "      <th>2</th>\n",
              "      <td>im grabbing a minute to post i feel greedy wrong</td>\n",
              "      <td>3</td>\n",
              "      <td>anger</td>\n",
              "    </tr>\n",
              "    <tr>\n",
              "      <th>3</th>\n",
              "      <td>i am ever feeling nostalgic about the fireplac...</td>\n",
              "      <td>2</td>\n",
              "      <td>love</td>\n",
              "    </tr>\n",
              "    <tr>\n",
              "      <th>4</th>\n",
              "      <td>i am feeling grouchy</td>\n",
              "      <td>3</td>\n",
              "      <td>anger</td>\n",
              "    </tr>\n",
              "  </tbody>\n",
              "</table>\n",
              "</div>\n",
              "    <div class=\"colab-df-buttons\">\n",
              "\n",
              "  <div class=\"colab-df-container\">\n",
              "    <button class=\"colab-df-convert\" onclick=\"convertToInteractive('df-ee0c6707-11bb-48f5-8740-460424302ef9')\"\n",
              "            title=\"Convert this dataframe to an interactive table.\"\n",
              "            style=\"display:none;\">\n",
              "\n",
              "  <svg xmlns=\"http://www.w3.org/2000/svg\" height=\"24px\" viewBox=\"0 -960 960 960\">\n",
              "    <path d=\"M120-120v-720h720v720H120Zm60-500h600v-160H180v160Zm220 220h160v-160H400v160Zm0 220h160v-160H400v160ZM180-400h160v-160H180v160Zm440 0h160v-160H620v160ZM180-180h160v-160H180v160Zm440 0h160v-160H620v160Z\"/>\n",
              "  </svg>\n",
              "    </button>\n",
              "\n",
              "  <style>\n",
              "    .colab-df-container {\n",
              "      display:flex;\n",
              "      gap: 12px;\n",
              "    }\n",
              "\n",
              "    .colab-df-convert {\n",
              "      background-color: #E8F0FE;\n",
              "      border: none;\n",
              "      border-radius: 50%;\n",
              "      cursor: pointer;\n",
              "      display: none;\n",
              "      fill: #1967D2;\n",
              "      height: 32px;\n",
              "      padding: 0 0 0 0;\n",
              "      width: 32px;\n",
              "    }\n",
              "\n",
              "    .colab-df-convert:hover {\n",
              "      background-color: #E2EBFA;\n",
              "      box-shadow: 0px 1px 2px rgba(60, 64, 67, 0.3), 0px 1px 3px 1px rgba(60, 64, 67, 0.15);\n",
              "      fill: #174EA6;\n",
              "    }\n",
              "\n",
              "    .colab-df-buttons div {\n",
              "      margin-bottom: 4px;\n",
              "    }\n",
              "\n",
              "    [theme=dark] .colab-df-convert {\n",
              "      background-color: #3B4455;\n",
              "      fill: #D2E3FC;\n",
              "    }\n",
              "\n",
              "    [theme=dark] .colab-df-convert:hover {\n",
              "      background-color: #434B5C;\n",
              "      box-shadow: 0px 1px 3px 1px rgba(0, 0, 0, 0.15);\n",
              "      filter: drop-shadow(0px 1px 2px rgba(0, 0, 0, 0.3));\n",
              "      fill: #FFFFFF;\n",
              "    }\n",
              "  </style>\n",
              "\n",
              "    <script>\n",
              "      const buttonEl =\n",
              "        document.querySelector('#df-ee0c6707-11bb-48f5-8740-460424302ef9 button.colab-df-convert');\n",
              "      buttonEl.style.display =\n",
              "        google.colab.kernel.accessAllowed ? 'block' : 'none';\n",
              "\n",
              "      async function convertToInteractive(key) {\n",
              "        const element = document.querySelector('#df-ee0c6707-11bb-48f5-8740-460424302ef9');\n",
              "        const dataTable =\n",
              "          await google.colab.kernel.invokeFunction('convertToInteractive',\n",
              "                                                    [key], {});\n",
              "        if (!dataTable) return;\n",
              "\n",
              "        const docLinkHtml = 'Like what you see? Visit the ' +\n",
              "          '<a target=\"_blank\" href=https://colab.research.google.com/notebooks/data_table.ipynb>data table notebook</a>'\n",
              "          + ' to learn more about interactive tables.';\n",
              "        element.innerHTML = '';\n",
              "        dataTable['output_type'] = 'display_data';\n",
              "        await google.colab.output.renderOutput(dataTable, element);\n",
              "        const docLink = document.createElement('div');\n",
              "        docLink.innerHTML = docLinkHtml;\n",
              "        element.appendChild(docLink);\n",
              "      }\n",
              "    </script>\n",
              "  </div>\n",
              "\n",
              "\n",
              "    <div id=\"df-6163e4ea-cf2f-49e0-a0e9-8b7335243b07\">\n",
              "      <button class=\"colab-df-quickchart\" onclick=\"quickchart('df-6163e4ea-cf2f-49e0-a0e9-8b7335243b07')\"\n",
              "                title=\"Suggest charts\"\n",
              "                style=\"display:none;\">\n",
              "\n",
              "<svg xmlns=\"http://www.w3.org/2000/svg\" height=\"24px\"viewBox=\"0 0 24 24\"\n",
              "     width=\"24px\">\n",
              "    <g>\n",
              "        <path d=\"M19 3H5c-1.1 0-2 .9-2 2v14c0 1.1.9 2 2 2h14c1.1 0 2-.9 2-2V5c0-1.1-.9-2-2-2zM9 17H7v-7h2v7zm4 0h-2V7h2v10zm4 0h-2v-4h2v4z\"/>\n",
              "    </g>\n",
              "</svg>\n",
              "      </button>\n",
              "\n",
              "<style>\n",
              "  .colab-df-quickchart {\n",
              "      --bg-color: #E8F0FE;\n",
              "      --fill-color: #1967D2;\n",
              "      --hover-bg-color: #E2EBFA;\n",
              "      --hover-fill-color: #174EA6;\n",
              "      --disabled-fill-color: #AAA;\n",
              "      --disabled-bg-color: #DDD;\n",
              "  }\n",
              "\n",
              "  [theme=dark] .colab-df-quickchart {\n",
              "      --bg-color: #3B4455;\n",
              "      --fill-color: #D2E3FC;\n",
              "      --hover-bg-color: #434B5C;\n",
              "      --hover-fill-color: #FFFFFF;\n",
              "      --disabled-bg-color: #3B4455;\n",
              "      --disabled-fill-color: #666;\n",
              "  }\n",
              "\n",
              "  .colab-df-quickchart {\n",
              "    background-color: var(--bg-color);\n",
              "    border: none;\n",
              "    border-radius: 50%;\n",
              "    cursor: pointer;\n",
              "    display: none;\n",
              "    fill: var(--fill-color);\n",
              "    height: 32px;\n",
              "    padding: 0;\n",
              "    width: 32px;\n",
              "  }\n",
              "\n",
              "  .colab-df-quickchart:hover {\n",
              "    background-color: var(--hover-bg-color);\n",
              "    box-shadow: 0 1px 2px rgba(60, 64, 67, 0.3), 0 1px 3px 1px rgba(60, 64, 67, 0.15);\n",
              "    fill: var(--button-hover-fill-color);\n",
              "  }\n",
              "\n",
              "  .colab-df-quickchart-complete:disabled,\n",
              "  .colab-df-quickchart-complete:disabled:hover {\n",
              "    background-color: var(--disabled-bg-color);\n",
              "    fill: var(--disabled-fill-color);\n",
              "    box-shadow: none;\n",
              "  }\n",
              "\n",
              "  .colab-df-spinner {\n",
              "    border: 2px solid var(--fill-color);\n",
              "    border-color: transparent;\n",
              "    border-bottom-color: var(--fill-color);\n",
              "    animation:\n",
              "      spin 1s steps(1) infinite;\n",
              "  }\n",
              "\n",
              "  @keyframes spin {\n",
              "    0% {\n",
              "      border-color: transparent;\n",
              "      border-bottom-color: var(--fill-color);\n",
              "      border-left-color: var(--fill-color);\n",
              "    }\n",
              "    20% {\n",
              "      border-color: transparent;\n",
              "      border-left-color: var(--fill-color);\n",
              "      border-top-color: var(--fill-color);\n",
              "    }\n",
              "    30% {\n",
              "      border-color: transparent;\n",
              "      border-left-color: var(--fill-color);\n",
              "      border-top-color: var(--fill-color);\n",
              "      border-right-color: var(--fill-color);\n",
              "    }\n",
              "    40% {\n",
              "      border-color: transparent;\n",
              "      border-right-color: var(--fill-color);\n",
              "      border-top-color: var(--fill-color);\n",
              "    }\n",
              "    60% {\n",
              "      border-color: transparent;\n",
              "      border-right-color: var(--fill-color);\n",
              "    }\n",
              "    80% {\n",
              "      border-color: transparent;\n",
              "      border-right-color: var(--fill-color);\n",
              "      border-bottom-color: var(--fill-color);\n",
              "    }\n",
              "    90% {\n",
              "      border-color: transparent;\n",
              "      border-bottom-color: var(--fill-color);\n",
              "    }\n",
              "  }\n",
              "</style>\n",
              "\n",
              "      <script>\n",
              "        async function quickchart(key) {\n",
              "          const quickchartButtonEl =\n",
              "            document.querySelector('#' + key + ' button');\n",
              "          quickchartButtonEl.disabled = true;  // To prevent multiple clicks.\n",
              "          quickchartButtonEl.classList.add('colab-df-spinner');\n",
              "          try {\n",
              "            const charts = await google.colab.kernel.invokeFunction(\n",
              "                'suggestCharts', [key], {});\n",
              "          } catch (error) {\n",
              "            console.error('Error during call to suggestCharts:', error);\n",
              "          }\n",
              "          quickchartButtonEl.classList.remove('colab-df-spinner');\n",
              "          quickchartButtonEl.classList.add('colab-df-quickchart-complete');\n",
              "        }\n",
              "        (() => {\n",
              "          let quickchartButtonEl =\n",
              "            document.querySelector('#df-6163e4ea-cf2f-49e0-a0e9-8b7335243b07 button');\n",
              "          quickchartButtonEl.style.display =\n",
              "            google.colab.kernel.accessAllowed ? 'block' : 'none';\n",
              "        })();\n",
              "      </script>\n",
              "    </div>\n",
              "\n",
              "    </div>\n",
              "  </div>\n"
            ],
            "text/plain": [
              "                                                text  label emotion_name\n",
              "0                            i didnt feel humiliated      0      sadness\n",
              "1  i can go from feeling so hopeless to so damned...      0      sadness\n",
              "2   im grabbing a minute to post i feel greedy wrong      3        anger\n",
              "3  i am ever feeling nostalgic about the fireplac...      2         love\n",
              "4                               i am feeling grouchy      3        anger"
            ]
          },
          "metadata": {},
          "output_type": "display_data"
        }
      ],
      "source": [
        "# Load the emotion dataset\n",
        "print(\"📥 Loading dair-ai/emotion dataset...\")\n",
        "dataset = load_dataset(\"dair-ai/emotion\")\n",
        "\n",
        "# Convert to pandas DataFrames for easier manipulation\n",
        "train_df = pd.DataFrame(dataset['train'])\n",
        "val_df = pd.DataFrame(dataset['validation'])\n",
        "test_df = pd.DataFrame(dataset['test'])\n",
        "\n",
        "# Combine training and validation sets for traditional ML models\n",
        "full_train_df = pd.concat([train_df, val_df], ignore_index=True)\n",
        "\n",
        "# Define emotion labels\n",
        "emotion_labels = {\n",
        "    0: 'sadness',\n",
        "    1: 'joy',\n",
        "    2: 'love',\n",
        "    3: 'anger',\n",
        "    4: 'fear',\n",
        "    5: 'surprise'\n",
        "}\n",
        "\n",
        "# Add label names for better visualization\n",
        "full_train_df['emotion_name'] = full_train_df['label'].map(emotion_labels)\n",
        "test_df['emotion_name'] = test_df['label'].map(emotion_labels)\n",
        "\n",
        "print(f\"✅ Dataset loaded successfully!\")\n",
        "print(f\"📊 Training set size: {len(full_train_df)}\")\n",
        "print(f\"📊 Test set size: {len(test_df)}\")\n",
        "print(f\"📊 Total emotions: {len(emotion_labels)}\")\n",
        "\n",
        "# Display sample data\n",
        "print(\"\\n🔍 Sample training data:\")\n",
        "display(full_train_df.head())\n"
      ]
    },
    {
      "cell_type": "code",
      "execution_count": 40,
      "metadata": {
        "colab": {
          "base_uri": "https://localhost:8080/",
          "height": 797
        },
        "id": "bJhGyIVtFTsd",
        "outputId": "fccb914e-6510-428d-8083-280f330acba2"
      },
      "outputs": [
        {
          "name": "stdout",
          "output_type": "stream",
          "text": [
            "📈 Dataset Statistics:\n",
            "Average text length: 96.7 characters\n",
            "Median text length: 86.0 characters\n",
            "\n",
            "📊 Class Distribution:\n",
            "     joy:  6066 ( 33.7%)\n",
            " sadness:  5216 ( 29.0%)\n",
            "   anger:  2434 ( 13.5%)\n",
            "    fear:  2149 ( 11.9%)\n",
            "    love:  1482 (  8.2%)\n",
            "surprise:   653 (  3.6%)\n"
          ]
        },
        {
          "data": {
            "image/png": "[encoded data removed]",
            "text/plain": [
              "<Figure size 1500x500 with 2 Axes>"
            ]
          },
          "metadata": {},
          "output_type": "display_data"
        },
        {
          "name": "stdout",
          "output_type": "stream",
          "text": [
            "\n",
            "📝 Sample texts for each emotion:\n",
            "\n",
            " SADNESS: \"i didnt feel humiliated\"\n",
            "\n",
            "     JOY: \"i have been with petronas for years i feel that petronas has performed well and made a huge profit\"\n",
            "\n",
            "    LOVE: \"i am ever feeling nostalgic about the fireplace i will know that it is still on the property\"\n",
            "\n",
            "   ANGER: \"im grabbing a minute to post i feel greedy wrong\"\n",
            "\n",
            "    FEAR: \"i feel as confused about life as a teenager or as jaded as a year old man\"\n",
            "\n",
            "SURPRISE: \"ive been taking or milligrams or times recommended amount and ive fallen asleep a lot faster but i also feel like so funny\"\n"
          ]
        }
      ],
      "source": [
        "# Exploratory Data Analysis\n",
        "print(\"📈 Dataset Statistics:\")\n",
        "print(f\"Average text length: {full_train_df['text'].str.len().mean():.1f} characters\")\n",
        "print(f\"Median text length: {full_train_df['text'].str.len().median():.1f} characters\")\n",
        "\n",
        "# Class distribution\n",
        "print(\"\\n📊 Class Distribution:\")\n",
        "class_counts = full_train_df['emotion_name'].value_counts()\n",
        "for emotion, count in class_counts.items():\n",
        "    percentage = (count / len(full_train_df)) * 100\n",
        "    print(f\"{emotion:>8}: {count:>5} ({percentage:>5.1f}%)\")\n",
        "\n",
        "# Visualizations\n",
        "fig, axes = plt.subplots(1, 2, figsize=(15, 5))\n",
        "\n",
        "# Class distribution\n",
        "class_counts.plot(kind='bar', ax=axes[0], color='skyblue', edgecolor='navy')\n",
        "axes[0].set_title('Emotion Distribution in Training Data', fontsize=14, fontweight='bold')\n",
        "axes[0].set_xlabel('Emotion')\n",
        "axes[0].set_ylabel('Count')\n",
        "axes[0].tick_params(axis='x', rotation=45)\n",
        "\n",
        "# Text length distribution\n",
        "text_lengths = full_train_df['text'].str.len()\n",
        "axes[1].hist(text_lengths, bins=50, color='lightcoral', edgecolor='darkred', alpha=0.7)\n",
        "axes[1].set_title('Text Length Distribution', fontsize=14, fontweight='bold')\n",
        "axes[1].set_xlabel('Text Length (characters)')\n",
        "axes[1].set_ylabel('Frequency')\n",
        "axes[1].axvline(text_lengths.mean(), color='red', linestyle='--', label=f'Mean: {text_lengths.mean():.1f}')\n",
        "axes[1].legend()\n",
        "\n",
        "plt.tight_layout()\n",
        "plt.show()\n",
        "\n",
        "# Sample texts for each emotion\n",
        "print(\"\\n📝 Sample texts for each emotion:\")\n",
        "for emotion in emotion_labels.values():\n",
        "    sample_text = full_train_df[full_train_df['emotion_name'] == emotion]['text'].iloc[0]\n",
        "    print(f\"\\n{emotion.upper():>8}: \\\"{sample_text}\\\"\")\n"
      ]
    },
    {
      "cell_type": "markdown",
      "metadata": {
        "id": "9iNcmj7nFTsd",
        "vscode": {
          "languageId": "raw"
        }
      },
      "source": [
        "# Part 1: Statistical Models 📊\n",
        "\n",
        "In this section, we implement and evaluate traditional machine learning approaches using TF-IDF vectorization:\n",
        "\n",
        "## 🎯 Approach\n",
        "- **Feature Extraction**: TF-IDF vectorization with optimized parameters\n",
        "- **Models**:\n",
        "  - **Naive Bayes** (Baseline model)\n",
        "  - **Logistic Regression** (Primary statistical model)\n",
        "- **Preprocessing**: Text cleaning and TF-IDF transformation\n"
      ]
    },
    {
      "cell_type": "markdown",
      "metadata": {
        "id": "98sdItkqFTsd",
        "vscode": {
          "languageId": "raw"
        }
      },
      "source": [
        "## 🔧 Text Preprocessing and TF-IDF Vectorization\n",
        "\n",
        "Converting text data into numerical features using TF-IDF (Term Frequency-Inverse Document Frequency) vectorization.\n"
      ]
    },
    {
      "cell_type": "code",
      "execution_count": 41,
      "metadata": {
        "colab": {
          "base_uri": "https://localhost:8080/"
        },
        "id": "RXU7LD4VFTsd",
        "outputId": "8294715a-9efb-4807-b78d-a9e9d90a115c"
      },
      "outputs": [
        {
          "name": "stdout",
          "output_type": "stream",
          "text": [
            "🧹 Cleaning text data...\n",
            "🔢 Creating TF-IDF vectors...\n",
            "✅ TF-IDF vectorization complete!\n",
            "📊 Training matrix shape: (18000, 10000)\n",
            "📊 Test matrix shape: (2000, 10000)\n",
            "📊 Vocabulary size: 10000\n",
            "📊 Feature density: 0.0010\n"
          ]
        }
      ],
      "source": [
        "# Text preprocessing function\n",
        "def clean_text(text):\n",
        "    \"\"\"Clean and normalize text data.\"\"\"\n",
        "    if pd.isna(text):\n",
        "        return \"\"\n",
        "    # Convert to lowercase and strip whitespace\n",
        "    text = str(text).lower().strip()\n",
        "    return text\n",
        "\n",
        "# Apply text cleaning\n",
        "print(\"🧹 Cleaning text data...\")\n",
        "full_train_df['text_clean'] = full_train_df['text'].apply(clean_text)\n",
        "test_df['text_clean'] = test_df['text'].apply(clean_text)\n",
        "\n",
        "# Prepare features and labels for statistical models\n",
        "X_train = full_train_df['text_clean']\n",
        "y_train = full_train_df['label']\n",
        "X_test = test_df['text_clean']\n",
        "y_test = test_df['label']\n",
        "\n",
        "# TF-IDF Vectorization with optimized parameters\n",
        "print(\"🔢 Creating TF-IDF vectors...\")\n",
        "tfidf_vectorizer = TfidfVectorizer(\n",
        "    max_features=10000,        # Increased for better performance\n",
        "    min_df=2,                  # Ignore terms appearing in less than 2 documents\n",
        "    max_df=0.95,               # Ignore terms appearing in more than 95% of documents\n",
        "    stop_words='english',      # Remove English stop words\n",
        "    ngram_range=(1, 2),        # Include unigrams and bigrams\n",
        "    strip_accents='unicode',   # Remove accents\n",
        "    lowercase=True,            # Convert to lowercase\n",
        "    token_pattern=r'\\b\\w{2,}\\b'  # Tokens with at least 2 characters\n",
        ")\n",
        "\n",
        "# Fit and transform the training data\n",
        "X_train_tfidf = tfidf_vectorizer.fit_transform(X_train)\n",
        "X_test_tfidf = tfidf_vectorizer.transform(X_test)\n",
        "\n",
        "print(f\"✅ TF-IDF vectorization complete!\")\n",
        "print(f\"📊 Training matrix shape: {X_train_tfidf.shape}\")\n",
        "print(f\"📊 Test matrix shape: {X_test_tfidf.shape}\")\n",
        "print(f\"📊 Vocabulary size: {len(tfidf_vectorizer.vocabulary_)}\")\n",
        "print(f\"📊 Feature density: {X_train_tfidf.nnz / (X_train_tfidf.shape[0] * X_train_tfidf.shape[1]):.4f}\")\n"
      ]
    },
    {
      "cell_type": "markdown",
      "metadata": {
        "id": "lFNO6dP4FTse",
        "vscode": {
          "languageId": "raw"
        }
      },
      "source": [
        "## 📈 Model 1: Naive Bayes (Baseline)\n",
        "\n",
        "Multinomial Naive Bayes is well-suited for text classification with discrete features like TF-IDF.\n"
      ]
    },
    {
      "cell_type": "code",
      "execution_count": 42,
      "metadata": {
        "colab": {
          "base_uri": "https://localhost:8080/"
        },
        "id": "q8bbTq1dFTse",
        "outputId": "34bdb733-848f-4492-bc64-bfc2c49e76aa"
      },
      "outputs": [
        {
          "name": "stdout",
          "output_type": "stream",
          "text": [
            "🤖 Training Naive Bayes model...\n",
            "✅ Naive Bayes training complete!\n",
            "📊 Accuracy: 0.8390\n",
            "📊 Macro F1-score: 0.7537\n",
            "📊 Weighted F1-score: 0.8310\n",
            "\n",
            "📋 Detailed Classification Report (Naive Bayes):\n",
            "              precision    recall  f1-score   support\n",
            "\n",
            "     sadness       0.85      0.92      0.89       581\n",
            "         joy       0.81      0.95      0.87       695\n",
            "        love       0.83      0.53      0.65       159\n",
            "       anger       0.90      0.75      0.82       275\n",
            "        fear       0.87      0.76      0.81       224\n",
            "    surprise       0.82      0.35      0.49        66\n",
            "\n",
            "    accuracy                           0.84      2000\n",
            "   macro avg       0.85      0.71      0.75      2000\n",
            "weighted avg       0.84      0.84      0.83      2000\n",
            "\n"
          ]
        }
      ],
      "source": [
        "# Train Multinomial Naive Bayes\n",
        "print(\"🤖 Training Naive Bayes model...\")\n",
        "nb_model = MultinomialNB(alpha=0.1)  # Slightly reduced smoothing for better performance\n",
        "nb_model.fit(X_train_tfidf, y_train)\n",
        "\n",
        "# Make predictions\n",
        "nb_predictions = nb_model.predict(X_test_tfidf)\n",
        "nb_probabilities = nb_model.predict_proba(X_test_tfidf)\n",
        "\n",
        "# Calculate metrics\n",
        "nb_accuracy = accuracy_score(y_test, nb_predictions)\n",
        "nb_f1_macro = f1_score(y_test, nb_predictions, average='macro')\n",
        "nb_f1_weighted = f1_score(y_test, nb_predictions, average='weighted')\n",
        "\n",
        "print(f\"✅ Naive Bayes training complete!\")\n",
        "print(f\"📊 Accuracy: {nb_accuracy:.4f}\")\n",
        "print(f\"📊 Macro F1-score: {nb_f1_macro:.4f}\")\n",
        "print(f\"📊 Weighted F1-score: {nb_f1_weighted:.4f}\")\n",
        "\n",
        "# Detailed classification report\n",
        "print(\"\\n📋 Detailed Classification Report (Naive Bayes):\")\n",
        "print(classification_report(y_test, nb_predictions, target_names=list(emotion_labels.values()), zero_division=0))\n"
      ]
    },
    {
      "cell_type": "markdown",
      "metadata": {
        "id": "9UTto7smFTse",
        "vscode": {
          "languageId": "raw"
        }
      },
      "source": [
        "## 📈 Model 2: Logistic Regression (Primary Statistical Model)\n",
        "\n",
        "Logistic Regression with L2 regularization for multi-class classification.\n"
      ]
    },
    {
      "cell_type": "code",
      "execution_count": 43,
      "metadata": {
        "colab": {
          "base_uri": "https://localhost:8080/"
        },
        "id": "1Um4L10ZFTse",
        "outputId": "7747a1f0-f925-4e47-86a4-ea6dfeeb42e2"
      },
      "outputs": [
        {
          "name": "stdout",
          "output_type": "stream",
          "text": [
            "🤖 Training Logistic Regression model...\n",
            "✅ Logistic Regression training complete!\n",
            "📊 Accuracy: 0.8975\n",
            "📊 Macro F1-score: 0.8635\n",
            "📊 Weighted F1-score: 0.8998\n",
            "\n",
            "📋 Detailed Classification Report (Logistic Regression):\n",
            "              precision    recall  f1-score   support\n",
            "\n",
            "     sadness       0.95      0.92      0.94       581\n",
            "         joy       0.95      0.89      0.92       695\n",
            "        love       0.71      0.91      0.79       159\n",
            "       anger       0.89      0.91      0.90       275\n",
            "        fear       0.90      0.85      0.87       224\n",
            "    surprise       0.66      0.91      0.76        66\n",
            "\n",
            "    accuracy                           0.90      2000\n",
            "   macro avg       0.84      0.90      0.86      2000\n",
            "weighted avg       0.91      0.90      0.90      2000\n",
            "\n"
          ]
        }
      ],
      "source": [
        "# Train Logistic Regression\n",
        "print(\"🤖 Training Logistic Regression model...\")\n",
        "lr_model = LogisticRegression(\n",
        "    max_iter=2000,           # Increased iterations for convergence\n",
        "    C=1.0,                   # Regularization strength\n",
        "    penalty='l2',            # L2 regularization\n",
        "    solver='lbfgs',          # Solver for multiclass problems\n",
        "    multi_class='ovr',       # One-vs-Rest for multiclass\n",
        "    random_state=42,         # For reproducibility\n",
        "    class_weight='balanced'  # Handle class imbalance\n",
        ")\n",
        "\n",
        "lr_model.fit(X_train_tfidf, y_train)\n",
        "\n",
        "# Make predictions\n",
        "lr_predictions = lr_model.predict(X_test_tfidf)\n",
        "lr_probabilities = lr_model.predict_proba(X_test_tfidf)\n",
        "\n",
        "# Calculate metrics\n",
        "lr_accuracy = accuracy_score(y_test, lr_predictions)\n",
        "lr_f1_macro = f1_score(y_test, lr_predictions, average='macro')\n",
        "lr_f1_weighted = f1_score(y_test, lr_predictions, average='weighted')\n",
        "\n",
        "print(f\"✅ Logistic Regression training complete!\")\n",
        "print(f\"📊 Accuracy: {lr_accuracy:.4f}\")\n",
        "print(f\"📊 Macro F1-score: {lr_f1_macro:.4f}\")\n",
        "print(f\"📊 Weighted F1-score: {lr_f1_weighted:.4f}\")\n",
        "\n",
        "# Detailed classification report\n",
        "print(\"\\n📋 Detailed Classification Report (Logistic Regression):\")\n",
        "print(classification_report(y_test, lr_predictions, target_names=list(emotion_labels.values()), zero_division=0))\n"
      ]
    },
    {
      "cell_type": "markdown",
      "metadata": {
        "id": "YCDnSzR1FTsg",
        "vscode": {
          "languageId": "raw"
        }
      },
      "source": [
        "# Part 2: Transformer-Based Model 🤖\n",
        "\n",
        "## 🎯 DistilBERT Fine-tuning Approach\n",
        "\n",
        "**DistilBERT** is a distilled version of BERT that's 60% smaller and 60% faster while retaining 97% of BERT's performance:\n",
        "\n",
        "- **Model**: `distilbert-base-uncased`\n",
        "- **Strategy**: Fine-tuning for sequence classification\n",
        "- **Advantages**:\n",
        "  - Pre-trained on large corpus\n",
        "  - Contextual understanding\n",
        "  - Attention mechanisms\n",
        "  - Better handling of semantics\n"
      ]
    },
    {
      "cell_type": "markdown",
      "metadata": {
        "id": "TdOgselHFTsg",
        "vscode": {
          "languageId": "raw"
        }
      },
      "source": [
        "## 🔧 DistilBERT Setup and Tokenization\n"
      ]
    },
    {
      "cell_type": "code",
      "execution_count": 44,
      "metadata": {
        "colab": {
          "base_uri": "https://localhost:8080/"
        },
        "id": "AwnJjUByFTsg",
        "outputId": "4fb1bbfb-c751-4f64-c058-e70b6b464c36"
      },
      "outputs": [
        {
          "name": "stdout",
          "output_type": "stream",
          "text": [
            "🔧 Setting up DistilBERT...\n",
            "💾 Using device: cuda\n",
            "📝 Tokenizer loaded: distilbert-base-uncased\n",
            "🏷️ Label mappings created: 6 classes\n",
            "🔢 Tokenizing datasets...\n",
            "✅ Tokenization complete!\n",
            "📊 Training tokens shape: torch.Size([16000, 87])\n",
            "📊 Validation tokens shape: torch.Size([2000, 69])\n",
            "📊 Test tokens shape: torch.Size([2000, 66])\n"
          ]
        }
      ],
      "source": [
        "# Set up device and model configuration\n",
        "device = torch.device('cuda' if torch.cuda.is_available() else 'cpu')\n",
        "model_name = \"distilbert-base-uncased\"\n",
        "\n",
        "print(f\"🔧 Setting up DistilBERT...\")\n",
        "print(f\"💾 Using device: {device}\")\n",
        "\n",
        "# Initialize tokenizer\n",
        "tokenizer = AutoTokenizer.from_pretrained(model_name)\n",
        "\n",
        "# Create label mappings for DistilBERT\n",
        "id2label = {i: label for i, label in emotion_labels.items()}\n",
        "label2id = {label: i for i, label in emotion_labels.items()}\n",
        "\n",
        "print(f\"📝 Tokenizer loaded: {model_name}\")\n",
        "print(f\"🏷️ Label mappings created: {len(emotion_labels)} classes\")\n",
        "\n",
        "# Tokenization function\n",
        "def tokenize_function(examples):\n",
        "    \"\"\"Tokenize text examples for DistilBERT.\"\"\"\n",
        "    return tokenizer(\n",
        "        examples['text'],\n",
        "        truncation=True,\n",
        "        padding=True,\n",
        "        max_length=128,  # Optimal length for this dataset\n",
        "        return_tensors='pt'\n",
        "    )\n",
        "\n",
        "# Tokenize datasets\n",
        "print(\"🔢 Tokenizing datasets...\")\n",
        "train_encodings = tokenizer(\n",
        "    train_df['text'].tolist(),\n",
        "    truncation=True,\n",
        "    padding=True,\n",
        "    max_length=128,\n",
        "    return_tensors='pt'\n",
        ")\n",
        "\n",
        "val_encodings = tokenizer(\n",
        "    val_df['text'].tolist(),\n",
        "    truncation=True,\n",
        "    padding=True,\n",
        "    max_length=128,\n",
        "    return_tensors='pt'\n",
        ")\n",
        "\n",
        "test_encodings = tokenizer(\n",
        "    test_df['text'].tolist(),\n",
        "    truncation=True,\n",
        "    padding=True,\n",
        "    max_length=128,\n",
        "    return_tensors='pt'\n",
        ")\n",
        "\n",
        "print(f\"✅ Tokenization complete!\")\n",
        "print(f\"📊 Training tokens shape: {train_encodings['input_ids'].shape}\")\n",
        "print(f\"📊 Validation tokens shape: {val_encodings['input_ids'].shape}\")\n",
        "print(f\"📊 Test tokens shape: {test_encodings['input_ids'].shape}\")\n"
      ]
    }
  ],
  "metadata": {
    "accelerator": "GPU",
    "colab": {
      "gpuType": "T4",
      "provenance": []
    },
    "kernelspec": {
      "display_name": "Python 3",
      "name": "python3"
    },
    "language_info": {
      "codemirror_mode": {
        "name": "ipython",
        "version": 3
      },
      "file_extension": ".py",
      "mimetype": "text/x-python",
      "name": "python",
      "nbconvert_exporter": "python",
      "pygments_lexer": "ipython3",
      "version": "3.11.9"
    }
  },
  "nbformat": 4,
  "nbformat_minor": 0
}
